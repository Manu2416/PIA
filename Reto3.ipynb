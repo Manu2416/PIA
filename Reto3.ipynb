{
 "cells": [
  {
   "cell_type": "markdown",
   "id": "70f20722",
   "metadata": {},
   "source": [
    "Ejercicio: Juego adivinanza animales\n",
    "\n",
    "Implementa un programa de adivinanza de animales utilizando una estructura de decisión ideada por ti. El programa debe ser capaz de adivinar el animal en el que el usuario está pensando, haciendo una serie de preguntas.\n",
    "\n",
    "El objetivo del juego es que el programa sea capaz de adivinar el animal que el usuario está pensando, haciendo una serie de preguntas y yendo a derecha (SI) o izquierda (NO) según la contestación.\n",
    "\n",
    "Implementa 3 niveles de preguntas, que se cargarán en el juego inicialmente.\n",
    "Al final del tercer nivel el juego lanzará una respuesta con un animal para que el usuario le diga si ha adivinado o no.\n",
    "\n",
    "Tras lanzar la respuesta en caso de fallo el programa debe preguntar al usuario si puede ayudarle a mejorar. Para ello en primer lugar le preguntará el animal correcto y después que escriba una pregunta que sea verdadera para el animal que el usuario había pensado y falsa para el que había propuesto el programa.\n",
    "\n",
    "Esta pregunta, con sus correspondientes respuestas debe añadirse al árbol de forma que en esa rama tendremos un nivel más de profundidad.\n"
   ]
  },
  {
   "cell_type": "code",
   "execution_count": null,
   "id": "3e2544f9",
   "metadata": {},
   "outputs": [],
   "source": [
    "animales = {\n",
    "    \n",
    "}"
   ]
  }
 ],
 "metadata": {
  "kernelspec": {
   "display_name": ".venv",
   "language": "python",
   "name": "python3"
  },
  "language_info": {
   "name": "python",
   "version": "3.13.7"
  }
 },
 "nbformat": 4,
 "nbformat_minor": 5
}
