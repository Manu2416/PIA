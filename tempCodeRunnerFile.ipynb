minutos = int(input("cuantos minutos has estado?"))

precioParking = 0
horas = minutos % 60

print(horas)