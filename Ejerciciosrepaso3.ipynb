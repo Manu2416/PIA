{
 "cells": [
  {
   "cell_type": "markdown",
   "id": "389e29d2",
   "metadata": {},
   "source": [
    "1.\tEscribe un programa que pida un número por teclado y que cree un diccionario cuyas claves sean desde el número 1 hasta el número indicado, y los valores sean los cuadrados de las claves."
   ]
  },
  {
   "cell_type": "code",
   "execution_count": null,
   "id": "060b4335",
   "metadata": {},
   "outputs": [
    {
     "name": "stdout",
     "output_type": "stream",
     "text": [
      "{1: 1, 2: 4, 3: 9, 4: 16, 5: 25, 6: 36, 7: 49, 8: 64, 9: 81, 10: 100, 11: 121, 12: 144, 13: 169, 14: 196, 15: 225, 16: 256, 17: 289, 18: 324, 19: 361, 20: 400, 21: 441, 22: 484, 23: 529, 24: 576, 25: 625, 26: 676, 27: 729, 28: 784, 29: 841, 30: 900, 31: 961, 32: 1024, 33: 1089, 34: 1156, 35: 1225, 36: 1296, 37: 1369, 38: 1444, 39: 1521, 40: 1600, 41: 1681, 42: 1764, 43: 1849, 44: 1936, 45: 2025, 46: 2116, 47: 2209, 48: 2304, 49: 2401, 50: 2500, 51: 2601, 52: 2704, 53: 2809, 54: 2916, 55: 3025, 56: 3136, 57: 3249, 58: 3364, 59: 3481, 60: 3600, 61: 3721, 62: 3844, 63: 3969, 64: 4096, 65: 4225, 66: 4356, 67: 4489, 68: 4624, 69: 4761, 70: 4900, 71: 5041, 72: 5184, 73: 5329, 74: 5476, 75: 5625, 76: 5776, 77: 5929, 78: 6084, 79: 6241, 80: 6400, 81: 6561, 82: 6724, 83: 6889, 84: 7056, 85: 7225, 86: 7396, 87: 7569, 88: 7744, 89: 7921, 90: 8100, 91: 8281, 92: 8464, 93: 8649, 94: 8836, 95: 9025, 96: 9216, 97: 9409, 98: 9604, 99: 9801, 100: 10000}\n"
     ]
    }
   ],
   "source": [
    "diccionario = {}\n",
    "\n",
    "numero = int(input(\"dame un numero\"))\n",
    "\n",
    "for i in range(1,numero+1):\n",
    "    diccionario[i] = i**i\n",
    "\n",
    "print(diccionario)"
   ]
  },
  {
   "cell_type": "markdown",
   "id": "433aa22f",
   "metadata": {},
   "source": [
    "2.\tEscribe un programa que lea una cadena y devuelva un diccionario con la cantidad de apariciones de cada carácter en la cadena."
   ]
  },
  {
   "cell_type": "code",
   "execution_count": null,
   "id": "67108ce2",
   "metadata": {},
   "outputs": [],
   "source": [
    "disc = {}\n",
    "cadena = input(\"dame una cadena\")\n",
    "for caracter in cadena:\n",
    "        if caracter in disc:\n",
    "                disc[caracter] += 1\n",
    "        else:\n",
    "            disc[caracter] = 1\n",
    "print(disc)"
   ]
  },
  {
   "cell_type": "markdown",
   "id": "6ee7bed5",
   "metadata": {},
   "source": [
    "3.\tVamos a crear un programa en donde vamos a declarar un diccionario para guardar los precios de 4 frutas a nuestra elección. Posteriormente el programa pedirá el nombre de una fruta y la cantidad que se ha vendido y nos mostrará el precio final de la fruta a partir de los datos guardados en el diccionario. Si la fruta no existe nos dará un error.  Tras cada consulta el programa nos preguntará si queremos hacer otra consulta."
   ]
  },
  {
   "cell_type": "code",
   "execution_count": 8,
   "id": "37323c85",
   "metadata": {},
   "outputs": [
    {
     "name": "stdout",
     "output_type": "stream",
     "text": [
      "no hay fruta\n"
     ]
    }
   ],
   "source": [
    "fruteria = {\"pera\":2.5 ,\"manzana\":4,\"platano\":1.75,\"coco\":4}\n",
    "\n",
    "while True:\n",
    "    nombre = input(\"dame un nuombre\")\n",
    "\n",
    "    cantidad = int(input(\"dame una cantidad vendida \"))\n",
    "\n",
    "    if nombre in fruteria:\n",
    "        print(f\"son {cantidad * fruteria[nombre]}€\")\n",
    "    else:\n",
    "        print(\"no hay fruta\")\n",
    "        break\n",
    "\n",
    "    \n"
   ]
  },
  {
   "cell_type": "markdown",
   "id": "b5c1ad41",
   "metadata": {},
   "source": [
    "4.\tDado un número entero introducido por teclado, guarda sus divisores en un conjunto y muéstralo."
   ]
  },
  {
   "cell_type": "code",
   "execution_count": 25,
   "id": "93f15414",
   "metadata": {},
   "outputs": [
    {
     "name": "stdout",
     "output_type": "stream",
     "text": [
      "{20: [1, 2, 4, 5, 10, 20]}\n"
     ]
    }
   ],
   "source": [
    "numero = int(input(\"dame un numero\"))\n",
    "diccionario = {}\n",
    "divisores= []\n",
    "for i in range(1,numero +1):\n",
    "\n",
    "    if numero % i == 0:\n",
    "       divisores.append(i)\n",
    "\n",
    "diccionario[numero] = divisores\n",
    "\n",
    "print(diccionario)"
   ]
  },
  {
   "cell_type": "markdown",
   "id": "62fcf187",
   "metadata": {},
   "source": [
    "5.\tDada una frase introducida por teclado, guarda en un conjunto la primera letra de cada palabra"
   ]
  },
  {
   "cell_type": "code",
   "execution_count": 60,
   "id": "b52a6813",
   "metadata": {},
   "outputs": [
    {
     "name": "stdout",
     "output_type": "stream",
     "text": [
      "{'hola': 'h', 'que': 'q', 'tal': 't', 'estas': 'e', 'eh': 'e'}\n"
     ]
    }
   ],
   "source": [
    "frase = input(\"dame una frase\")\n",
    "\n",
    "diccionario = {}\n",
    "\n",
    "cadena = frase.split(\" \")\n",
    "\n",
    "for palabra in cadena:\n",
    "    diccionario[palabra] = palabra[0]\n",
    "\n",
    "print(diccionario)\n",
    "\n"
   ]
  },
  {
   "cell_type": "markdown",
   "id": "e3bc8afe",
   "metadata": {},
   "source": [
    "6.\tDada una frase proporcionada por el usuario, crea una lista de tuplas indicando palabra, longitud de cada palabra, letra inicial y posición que ocupan dentro de la frase."
   ]
  },
  {
   "cell_type": "code",
   "execution_count": null,
   "id": "13ac6fb8",
   "metadata": {},
   "outputs": [
    {
     "name": "stdout",
     "output_type": "stream",
     "text": [
      "{'hola': ('h', 4, 0), 'mundo': ('m', 5, 5)}\n"
     ]
    }
   ],
   "source": [
    "frase = input(\"dame una frase\")\n",
    "\n",
    "diccionario = {}\n",
    "\n",
    "lista_frases = frase.split(\" \")\n",
    "\n",
    "for palabra in lista_frases:\n",
    "    diccionario[palabra] = palabra[0],len(palabra),frase.find(palabra)\n",
    "\n",
    "print(diccionario)\n"
   ]
  },
  {
   "cell_type": "markdown",
   "id": "5546472f",
   "metadata": {},
   "source": [
    "7.\tImagina que tienes dos clases de estudiantes, una de Matemáticas y otra de inglés. Necesitas realizar varias operaciones para saber:\n",
    "\n",
    "a.\tLos estudiantes que están inscritos en ambas clases.\n",
    "b.\tLos estudiantes que están inscritos en solo una de las dos clases.\n",
    "c.\tLos estudiantes que están inscritos en alguna de las dos clases (o ambas).\n",
    "d.\tLos estudiantes que están inscritos en Matemáticas, pero no en Inglés.\n"
   ]
  },
  {
   "cell_type": "code",
   "execution_count": null,
   "id": "8487773b",
   "metadata": {},
   "outputs": [
    {
     "ename": "AttributeError",
     "evalue": "'dict' object has no attribute 'union'",
     "output_type": "error",
     "traceback": [
      "\u001b[31m---------------------------------------------------------------------------\u001b[39m",
      "\u001b[31mAttributeError\u001b[39m                            Traceback (most recent call last)",
      "\u001b[36mCell\u001b[39m\u001b[36m \u001b[39m\u001b[32mIn[64]\u001b[39m\u001b[32m, line 21\u001b[39m\n\u001b[32m     16\u001b[39m estudiantes_mate = estudiantes[\u001b[33m\"\u001b[39m\u001b[33mmate\u001b[39m\u001b[33m\"\u001b[39m]\n\u001b[32m     17\u001b[39m estudiantes_ingles = estudiantes[\u001b[33m\"\u001b[39m\u001b[33mingles\u001b[39m\u001b[33m\"\u001b[39m]\n\u001b[32m---> \u001b[39m\u001b[32m21\u001b[39m \u001b[38;5;28mprint\u001b[39m(\u001b[43mestudiantes_ingles\u001b[49m\u001b[43m.\u001b[49m\u001b[43munion\u001b[49m(estudiantes_mate))\n",
      "\u001b[31mAttributeError\u001b[39m: 'dict' object has no attribute 'union'"
     ]
    }
   ],
   "source": [
    "estudiantes = {\n",
    "        \"mate\" :{\n",
    "            \"alumno1\":{\"nombre\":\"raul\"},\n",
    "            \"alumno2\":{\"nombre\":\"gaston\"},\n",
    "            \"alumno3\":{\"nombre\":\"encarna\"},\n",
    "            \"alumno4\":{\"nombre\":\"maria\"}\n",
    "            },\n",
    "        \"ingles\" :{\n",
    "            \"alumno1\":{\"nombre\":\"pablo\"},\n",
    "            \"alumno2\":{\"nombre\":\"gaston\"},\n",
    "            \"alumno3\":{\"nombre\":\"julian\"},\n",
    "            \"alumno4\":{\"nombre\":\"maria\"}\n",
    "            }\n",
    "}\n",
    "estudiantes_mate = estudiantes[\"mate\"]\n",
    "\n",
    "estudiantes_ingles = estudiantes[\"ingles\"]"
   ]
  },
  {
   "cell_type": "code",
   "execution_count": null,
   "id": "5ce0d787",
   "metadata": {},
   "outputs": [],
   "source": []
  }
 ],
 "metadata": {
  "kernelspec": {
   "display_name": ".venv",
   "language": "python",
   "name": "python3"
  },
  "language_info": {
   "codemirror_mode": {
    "name": "ipython",
    "version": 3
   },
   "file_extension": ".py",
   "mimetype": "text/x-python",
   "name": "python",
   "nbconvert_exporter": "python",
   "pygments_lexer": "ipython3",
   "version": "3.13.7"
  }
 },
 "nbformat": 4,
 "nbformat_minor": 5
}
