{
 "cells": [
  {
   "cell_type": "code",
   "execution_count": null,
   "id": "09e87a12",
   "metadata": {},
   "outputs": [],
   "source": [
    "disc = {}\n",
    "cadena = input(\"dame una cadena\")\n",
    "for caracter in cadena:\n",
    "        if caracter in disc:\n",
    "                disc[caracter] += 1\n",
    "        else:\n",
    "            disc[caracter] = 1"
   ]
  }
 ],
 "metadata": {
  "language_info": {
   "name": "python"
  }
 },
 "nbformat": 4,
 "nbformat_minor": 5
}
