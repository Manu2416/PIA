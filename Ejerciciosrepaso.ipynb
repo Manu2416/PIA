{
 "cells": [
  {
   "cell_type": "markdown",
   "id": "86ba289b",
   "metadata": {},
   "source": [
    "1. Obten los primero 6 digitos de la cadena"
   ]
  },
  {
   "cell_type": "code",
   "execution_count": null,
   "id": "3e78393f",
   "metadata": {},
   "outputs": [
    {
     "name": "stdout",
     "output_type": "stream",
     "text": [
      "Python\n"
     ]
    }
   ],
   "source": [
    "# Obten los primero 6 digitos de la cadena\n",
    "Cadena = \"Python es genial\"\n",
    "\n",
    "seisDigitos = Cadena[0:6]\n",
    "\n",
    "print(seisDigitos)"
   ]
  },
  {
   "cell_type": "markdown",
   "id": "3dec267c",
   "metadata": {},
   "source": [
    "2. Dada la cadena alfabeto = 'abcdefghijklmnopqrstuvwxyz', obtén los caracteres pares de la cadena."
   ]
  },
  {
   "cell_type": "code",
   "execution_count": 7,
   "id": "b50daebd",
   "metadata": {},
   "outputs": [
    {
     "name": "stdout",
     "output_type": "stream",
     "text": [
      "bdfhjlnprtvxz\n"
     ]
    }
   ],
   "source": [
    "# Dada la cadena alfabeto = 'abcdefghijklmnopqrstuvwxyz', obtén los caracteres pares de la cadena.\n",
    "\n",
    "alfabeto = 'abcdefghijklmnopqrstuvwxyz'\n",
    "cadenaAlfabeto = \"\"\n",
    "\n",
    "for i in range(len(alfabeto)):\n",
    "        if i % 2:\n",
    "                cadenaAlfabeto += alfabeto[i]\n",
    "\n",
    "print(cadenaAlfabeto)\n"
   ]
  },
  {
   "cell_type": "markdown",
   "id": "0d8e8efa",
   "metadata": {},
   "source": [
    "3. Dada la cadena frase = 'Invertir una cadena es sencillo', invierte el orden de los caracteres."
   ]
  },
  {
   "cell_type": "code",
   "execution_count": 29,
   "id": "6ce0e81d",
   "metadata": {},
   "outputs": [
    {
     "name": "stdout",
     "output_type": "stream",
     "text": [
      "ollicnes se anedac anu ritrevnI\n"
     ]
    }
   ],
   "source": [
    "# Dada la cadena frase = 'Invertir una cadena es sencillo', invierte el orden de los caracteres.\n",
    "\n",
    "frase = 'Invertir una cadena es sencillo'\n",
    "\n",
    "cadenaInvertida = \"\"\n",
    "\n",
    "for i in range(len(frase)):\n",
    "\n",
    "    cadenaInvertida += frase[-(i + 1)]\n",
    "\n",
    "print(cadenaInvertida)\n",
    "\n"
   ]
  },
  {
   "cell_type": "markdown",
   "id": "794789de",
   "metadata": {},
   "source": [
    "4. Dada la cadena oracion = 'La tecnología es el futuro', obtén los últimos 8 caracteres usando índices negativos."
   ]
  },
  {
   "cell_type": "code",
   "execution_count": 43,
   "id": "8ec144f3",
   "metadata": {},
   "outputs": [
    {
     "name": "stdout",
     "output_type": "stream",
     "text": [
      "el futuro\n"
     ]
    }
   ],
   "source": [
    "oracion = 'La tecnología es el futuro'\n",
    "\n",
    "ultimos_8 = oracion[-9:]\n",
    "print(ultimos_8)"
   ]
  },
  {
   "cell_type": "markdown",
   "id": "3ed297b9",
   "metadata": {},
   "source": [
    "5. Dada la cadena texto = 'Aprender Python paso a paso', obtén la palabra 'Python' utilizando slicing."
   ]
  },
  {
   "cell_type": "code",
   "execution_count": 37,
   "id": "b8260964",
   "metadata": {},
   "outputs": [
    {
     "name": "stdout",
     "output_type": "stream",
     "text": [
      "Python\n"
     ]
    }
   ],
   "source": [
    "texto = 'Aprender Python paso a paso'\n",
    "\n",
    "palabra = texto[9:15]\n",
    "print(palabra)"
   ]
  },
  {
   "cell_type": "markdown",
   "id": "2f7ee6b3",
   "metadata": {},
   "source": [
    "6. Dada la cadena eslogan = 'El poder de la programación', obtén los caracteres desde el índice 3 al 14."
   ]
  },
  {
   "cell_type": "code",
   "execution_count": 40,
   "id": "020fff84",
   "metadata": {},
   "outputs": [
    {
     "name": "stdout",
     "output_type": "stream",
     "text": [
      " poder de la\n"
     ]
    }
   ],
   "source": [
    "eslogan = 'El poder de la programación'\n",
    "\n",
    "Caracteres = eslogan[2:14]\n",
    "\n",
    "print(Caracteres)"
   ]
  },
  {
   "cell_type": "markdown",
   "id": "ecaf3f80",
   "metadata": {},
   "source": [
    "7. Dada la cadena cadena = 'abcdefghijk', obtén los caracteres de la cadena en orden inverso, pero saltando uno."
   ]
  },
  {
   "cell_type": "code",
   "execution_count": 63,
   "id": "f7939741",
   "metadata": {},
   "outputs": [
    {
     "name": "stdout",
     "output_type": "stream",
     "text": [
      "acegik\n",
      "kigeca\n"
     ]
    }
   ],
   "source": [
    "cadena = 'abcdefghijk'\n",
    "\n",
    "invertida = cadena[::2]\n",
    "\n",
    "invertida_1= invertida[::-1]\n",
    "\n",
    "print(invertida)\n",
    "print(invertida_1)\n"
   ]
  },
  {
   "cell_type": "markdown",
   "id": "7a0b1a81",
   "metadata": {},
   "source": [
    "8. Dada la cadena mensaje = 'Estamos aprendiendo slicing', obtén la primera mitad de los caracteres de la cadena."
   ]
  },
  {
   "cell_type": "code",
   "execution_count": 13,
   "id": "35e02a95",
   "metadata": {},
   "outputs": [
    {
     "name": "stdout",
     "output_type": "stream",
     "text": [
      "Estamos apren\n"
     ]
    }
   ],
   "source": [
    "mensaje = 'Estamos aprendiendo slicing'\n",
    "\n",
    "mensaje_dividido = len(mensaje)\n",
    "\n",
    "mitad = mensaje_dividido // 2\n",
    "\n",
    "\n",
    "print(mensaje[0:mitad])\n"
   ]
  },
  {
   "cell_type": "markdown",
   "id": "545ea150",
   "metadata": {},
   "source": [
    "9. Slicing de frase truncada\n",
    "Dada la cadena frase = 'El conocimiento es poder', obtén solo la frase 'El conocimiento'.\n"
   ]
  },
  {
   "cell_type": "code",
   "execution_count": 16,
   "id": "37fc4d15",
   "metadata": {},
   "outputs": [
    {
     "name": "stdout",
     "output_type": "stream",
     "text": [
      "El conocimiento\n"
     ]
    }
   ],
   "source": [
    "frase = 'El conocimiento es poder'\n",
    "\n",
    "print(frase[0:15])"
   ]
  },
  {
   "cell_type": "markdown",
   "id": "5b601e5b",
   "metadata": {},
   "source": [
    "10. Slicing con paso personalizado\n",
    "Dada la cadena palabras = 'abcdefghijklmnopqrstuvwxz', obtén los caracteres en posiciones múltiplos de 3 (cada tercer carácter).\n"
   ]
  },
  {
   "cell_type": "code",
   "execution_count": 17,
   "id": "8f579804",
   "metadata": {},
   "outputs": [
    {
     "name": "stdout",
     "output_type": "stream",
     "text": [
      "adgjmpsvz\n"
     ]
    }
   ],
   "source": [
    "palabras = 'abcdefghijklmnopqrstuvwxz'\n",
    "\n",
    "print(palabras[::3])"
   ]
  },
  {
   "cell_type": "markdown",
   "id": "f009b674",
   "metadata": {},
   "source": [
    "11.\tComparación de longitud de cadenas\n",
    "Dadas dos cadenas cadena1 = 'aprendizaje' y cadena2 = 'conocimiento', verifica si ambas tienen la misma longitud.\n"
   ]
  }
 ],
 "metadata": {
  "kernelspec": {
   "display_name": ".venv",
   "language": "python",
   "name": "python3"
  },
  "language_info": {
   "codemirror_mode": {
    "name": "ipython",
    "version": 3
   },
   "file_extension": ".py",
   "mimetype": "text/x-python",
   "name": "python",
   "nbconvert_exporter": "python",
   "pygments_lexer": "ipython3",
   "version": "3.13.7"
  }
 },
 "nbformat": 4,
 "nbformat_minor": 5
}
