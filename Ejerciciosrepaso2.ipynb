{
 "cells": [
  {
   "cell_type": "markdown",
   "id": "fcb8bca9",
   "metadata": {},
   "source": [
    "0.\tRealiza un programa que reciba un número y nos diga si es par o impar\n",
    "-\tComprueba el tipo de datos del valor introducido por pantalla\n",
    "-\tHaz un bucle que permita seguir introduciendo números\n"
   ]
  },
  {
   "cell_type": "markdown",
   "id": "bb126794",
   "metadata": {},
   "source": [
    "1.\tHacer un programa que pida dos números enteros, uno par y otro impar y lo siga haciendo hasta que se cumpla la premisa de que el primero sea par y el segundo impar"
   ]
  },
  {
   "cell_type": "markdown",
   "id": "f0aadaa3",
   "metadata": {},
   "source": [
    "2.\tHacer un programa que calcule los números de la sucesión de Fibonacci menores o iguales que 1000. Los números de fibonacci son iguales a la suma de los anteriores"
   ]
  },
  {
   "cell_type": "markdown",
   "id": "c4cc3f98",
   "metadata": {},
   "source": [
    "3.\tCrear un programa que nos devuelva la tabla de multiplicar de un número dado"
   ]
  },
  {
   "cell_type": "markdown",
   "id": "9a8234f9",
   "metadata": {},
   "source": [
    "4.\tCrear un programa que devuelva la media, el valor máximo, el mínimo y el número de elementos de una lista"
   ]
  },
  {
   "cell_type": "markdown",
   "id": "cd4bdff1",
   "metadata": {},
   "source": [
    "5.\tCrear un programa que dada una lista elimine aquellos elementos cuyo valor sea mayor que 10. La lista se debe crear también en el programa pidiendo inicialmente su longitud."
   ]
  },
  {
   "cell_type": "markdown",
   "id": "453768fe",
   "metadata": {},
   "source": [
    "6.\tHaz que el usuario introduzca dos números enteros por teclado. El primero será el extremo izquierdo del intervalo y, el segundo, el extremo derecho. Imprime la suma de todos los múltiplos de 3 que se encuentren entre los dos números introducidos por el usuario (los extremos incluidos). Finalmente, muestra por pantalla el resultado de la suma"
   ]
  },
  {
   "cell_type": "code",
   "execution_count": 18,
   "id": "541462da",
   "metadata": {},
   "outputs": [
    {
     "name": "stdout",
     "output_type": "stream",
     "text": [
      "3\n",
      "6\n",
      "9\n",
      "12\n",
      "15\n",
      "18\n",
      "21\n",
      "numero de multiplos son 84\n"
     ]
    }
   ],
   "source": [
    "n1 = int(input(\"dame un numero\"))\n",
    "n2 = int(input(\"dame otro numero\"))\n",
    "multiplos = 0\n",
    "for i in range(n1,n2+1):\n",
    "    n1+= 1\n",
    "    if i % 3 == 0:\n",
    "        multiplos += i\n",
    "        print(i)\n",
    "        \n",
    "print(f\"numero de multiplos son {multiplos}\")"
   ]
  },
  {
   "cell_type": "markdown",
   "id": "30dd5831",
   "metadata": {},
   "source": [
    "7.\tHaz que el usuario introduzca precios por teclado (si introduce 0, entonces es que ha finalizado). Si el usuario pasa de 200€, entonces ya no debe poder introducir más precios pues se ha pasado de presupuesto. Sea cual sea el resultado (o bien el precio final o bien que no tiene más presupuesto), indícaselo por pantalla al usuario."
   ]
  },
  {
   "cell_type": "code",
   "execution_count": 23,
   "id": "32620e39",
   "metadata": {},
   "outputs": [
    {
     "name": "stdout",
     "output_type": "stream",
     "text": [
      "90\n",
      "180\n",
      "40\n",
      "no tienes suficiente presupuesto 220\n"
     ]
    }
   ],
   "source": [
    "total = 0\n",
    "\n",
    "while (True):\n",
    "    precios = int(input(\"dame un precio si dices 0 paras \"))\n",
    "   \n",
    "    if precios == 0:\n",
    "        print(f\"operacion terminada este es tu dinero {total}\")\n",
    "        break\n",
    "    else:\n",
    "        total += precios\n",
    "      \n",
    "    if total > 200:\n",
    "        print(precios)\n",
    "        print(f\"no tienes suficiente presupuesto {total}\")\n",
    "        break\n",
    "    else:\n",
    "        print(total)\n",
    "     \n",
    "    \n",
    "\n",
    "\n"
   ]
  },
  {
   "cell_type": "markdown",
   "id": "c35b1dac",
   "metadata": {},
   "source": [
    "8.\tEscribir un programa para un algoritmo que calcule el mayor de N números dados por teclado. Primero pediremos al usuario cuántos números nos va a dar (N) y después los leeremos uno por uno."
   ]
  },
  {
   "cell_type": "code",
   "execution_count": 33,
   "id": "9615a985",
   "metadata": {},
   "outputs": [
    {
     "name": "stdout",
     "output_type": "stream",
     "text": [
      "El número mayor es: 90\n"
     ]
    }
   ],
   "source": [
    "cantidad_lista= int(input(\"dame numeros\"))\n",
    "\n",
    "lista = []\n",
    "\n",
    "for i in range(cantidad_lista):\n",
    "    numeros = input(\"dame un numero para la lista\")\n",
    "    lista.append(numeros)\n",
    "\n",
    "\n",
    "mayor_numero = lista[0]\n",
    "\n",
    "for numero in lista:\n",
    "    if numero > mayor_numero:\n",
    "       mayor_numero = numero\n",
    "\n",
    "print(\"El número mayor es:\", mayor_numero)\n",
    "\n"
   ]
  },
  {
   "cell_type": "markdown",
   "id": "7946974d",
   "metadata": {},
   "source": [
    "9.\tEscribir un programa para un algoritmo que calcule el precio que se debe pagar en un parking teniendo en cuenta que por la primera hora o fracción se pagan 5 euros,  3 euros por las horas restantes y 2 euros por fracción. La primera hora o fracción cuesta 5 euros. Para dicho cálculo pediremos el número de minutos de estancia"
   ]
  },
  {
   "cell_type": "markdown",
   "id": "6405a648",
   "metadata": {},
   "source": [
    "10.\tCrea un programa que lea dos strings de la misma longitud, los guarde intercalados en una lista. Por último, mostrar el contenido de la lista.\n",
    "Por ejemplo, si introducimos hola caracola y adios marieta, debería mostrarse haodleao scamraarcioeltaa.\n"
   ]
  }
 ],
 "metadata": {
  "kernelspec": {
   "display_name": ".venv",
   "language": "python",
   "name": "python3"
  },
  "language_info": {
   "codemirror_mode": {
    "name": "ipython",
    "version": 3
   },
   "file_extension": ".py",
   "mimetype": "text/x-python",
   "name": "python",
   "nbconvert_exporter": "python",
   "pygments_lexer": "ipython3",
   "version": "3.13.7"
  }
 },
 "nbformat": 4,
 "nbformat_minor": 5
}
