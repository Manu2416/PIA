{
 "cells": [
  {
   "cell_type": "code",
   "execution_count": null,
   "id": "8e3c23c9",
   "metadata": {},
   "outputs": [],
   "source": [
    "muro = ((0,1), (0,2), (0,3), (0,4), (1,1), (2,1), (2,3), (3,3), (4,0), (4,1), (4,2), (4,3))\n",
    "\n",
    "laberinto = []\n",
    "\n",
    "for i in range(5):\n",
    "    fila = []\n",
    "    for j in range(5):\n",
    "        fila.append(' ')  \n",
    "    laberinto.append(fila)\n",
    "\n",
    "\n",
    "for x, y in muro:\n",
    "    laberinto[x][y] = \"X\"\n",
    "\n",
    "laberinto[4][4] = \"S\"\n",
    "\n",
    "for fila in laberinto:\n",
    "    print (fila)\n",
    "\n",
    "#No supe como hacer que imprima el recorrido \n",
    "x, y = 0, 0\n",
    "camino = []\n",
    "while laberinto[x][y] != 'S':\n",
    "    # Marcamos la casilla como visitada\n",
    "    laberinto[x][y] = 'V'\n",
    "\n",
    "    # Priorizamos el orden de movimiento: Abajo, Derecha, Arriba, Izquierda\n",
    "    if x + 1 < 5 and laberinto[x + 1][y] not in ('X', 'V'):  # Abajo\n",
    "        x += 1\n",
    "        camino.append('Abajo')\n",
    "    elif y + 1 < 5 and laberinto[x][y + 1] not in ('X', 'V'):  # Derecha\n",
    "        y += 1\n",
    "        camino.append('Derecha')\n",
    "    elif x - 1 >= 0 and laberinto[x - 1][y] not in ('X', 'V'):  # Arriba\n",
    "        x -= 1\n",
    "        camino.append('Arriba')\n",
    "    elif y - 1 >= 0 and laberinto[x][y - 1] not in ('X', 'V'):  # Izquierda\n",
    "        y -= 1\n",
    "        camino.append('Izquierda')\n",
    "    else:\n",
    "        # Retrocedemos si no hay salida\n",
    "        laberinto[x][y] = 'B'  # Marcamos como bloqueada\n",
    "        # Quitamos el último movimiento\n",
    "        ultimo = camino.pop()\n",
    "        if ultimo == 'Abajo': x -= 1\n",
    "        elif ultimo == 'Arriba': x += 1\n",
    "        elif ultimo == 'Derecha': y -= 1\n",
    "        elif ultimo == 'Izquierda': y += 1\n",
    "\n",
    "print(camino)"
   ]
  },
  {
   "cell_type": "markdown",
   "id": "ccea7305",
   "metadata": {},
   "source": []
  }
 ],
 "metadata": {
  "kernelspec": {
   "display_name": ".venv",
   "language": "python",
   "name": "python3"
  },
  "language_info": {
   "name": "python",
   "version": "3.13.7"
  }
 },
 "nbformat": 4,
 "nbformat_minor": 5
}
