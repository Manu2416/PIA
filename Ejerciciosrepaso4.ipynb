{
 "cells": [
  {
   "cell_type": "markdown",
   "id": "cf580d46",
   "metadata": {},
   "source": [
    "1. Crea una función que busque todos los divisores del número entero positivo dado por parámetro y devuelva una lista con todos los divisores de dicho número."
   ]
  },
  {
   "cell_type": "code",
   "execution_count": 5,
   "id": "0cd28bb7",
   "metadata": {},
   "outputs": [
    {
     "name": "stdout",
     "output_type": "stream",
     "text": [
      "[1, 2, 3, 6]\n"
     ]
    }
   ],
   "source": [
    "def divisores(numero):\n",
    "    if numero <= 0:\n",
    "        return []\n",
    "\n",
    "    resultado = []\n",
    "\n",
    "    for i in range(1, numero + 1):\n",
    "        if numero % i == 0:\n",
    "            resultado.append(i)\n",
    "    return resultado\n",
    "\n",
    "divisor = int(input(\"Di número\"))\n",
    "print(divisores(divisor))   "
   ]
  },
  {
   "cell_type": "markdown",
   "id": "5f60856c",
   "metadata": {},
   "source": [
    "2. Escribe una función que reciba una temperatura en grados Celsius y devuelva tanto su equivalente en grados Fahrenheit como en Kelvin."
   ]
  },
  {
   "cell_type": "code",
   "execution_count": null,
   "id": "046e3f61",
   "metadata": {},
   "outputs": [
    {
     "data": {
      "text/plain": [
       "('Los ', 50.0, 'a kelvin ', 323.0, 'y farenheit ', 10.0)"
      ]
     },
     "execution_count": 6,
     "metadata": {},
     "output_type": "execute_result"
    }
   ],
   "source": [
    "def conversor(grados):\n",
    "    kelvin = grados + 273\n",
    "    faren = (grados - 32) * 5/9\n",
    "\n",
    "    resultado = (\"Los \", grados, \"a kelvin \", kelvin, \"y farenheit \", faren)\n",
    "    return resultado\n",
    "\n",
    "conversor(300)"
   ]
  },
  {
   "cell_type": "markdown",
   "id": "3a7a455c",
   "metadata": {},
   "source": [
    "3. Crea una función que dada una palabra devuelva si es palíndroma."
   ]
  },
  {
   "cell_type": "code",
   "execution_count": 9,
   "id": "9fc772bd",
   "metadata": {},
   "outputs": [
    {
     "data": {
      "text/plain": [
       "True"
      ]
     },
     "execution_count": 9,
     "metadata": {},
     "output_type": "execute_result"
    }
   ],
   "source": [
    "def palindroma(palabra):\n",
    "    return palabra == palabra[::-1]\n",
    "cadena = input(\"Di palabra: \")\n",
    "palindroma(cadena)"
   ]
  },
  {
   "cell_type": "markdown",
   "id": "3192b2fb",
   "metadata": {},
   "source": [
    "4. Crea una función que, dada una lista de palabras por parámetro, devuelva un diccionario que contenga cuántas son de longitud par y cuántas de longitud impar."
   ]
  },
  {
   "cell_type": "code",
   "execution_count": 10,
   "id": "edbb5936",
   "metadata": {},
   "outputs": [
    {
     "name": "stdout",
     "output_type": "stream",
     "text": [
      "{'par': 2, 'impar': 1}\n"
     ]
    }
   ],
   "source": [
    "def contar_longitudes(palabras):\n",
    "    resultado = {\"par\": 0, \"impar\": 0}\n",
    "    \n",
    "    for palabra in palabras:\n",
    "        if len(palabra) % 2 == 0:\n",
    "            resultado[\"par\"] += 1\n",
    "        else:\n",
    "            resultado[\"impar\"] += 1\n",
    "    \n",
    "    return resultado\n",
    "\n",
    "lista = [\"hola\", \"mundo\", \"python\"]\n",
    "print(contar_longitudes(lista))"
   ]
  },
  {
   "cell_type": "markdown",
   "id": "b198e9d0",
   "metadata": {},
   "source": [
    "5. Escribe una función que reciba el ancho y el alto de un rectángulo y devuelva tanto el área como el perímetro."
   ]
  },
  {
   "cell_type": "code",
   "execution_count": 11,
   "id": "8a446eea",
   "metadata": {},
   "outputs": [
    {
     "data": {
      "text/plain": [
       "(20, 18)"
      ]
     },
     "execution_count": 11,
     "metadata": {},
     "output_type": "execute_result"
    }
   ],
   "source": [
    "def datos_rectangulo(ancho, alto):\n",
    "    area = ancho * alto\n",
    "    perimetro = (2 * ancho) + (2 * alto)\n",
    "    return area, perimetro\n",
    "datos_rectangulo(4, 5) "
   ]
  }
 ],
 "metadata": {
  "kernelspec": {
   "display_name": ".venv",
   "language": "python",
   "name": "python3"
  },
  "language_info": {
   "codemirror_mode": {
    "name": "ipython",
    "version": 3
   },
   "file_extension": ".py",
   "mimetype": "text/x-python",
   "name": "python",
   "nbconvert_exporter": "python",
   "pygments_lexer": "ipython3",
   "version": "3.13.7"
  }
 },
 "nbformat": 4,
 "nbformat_minor": 5
}
