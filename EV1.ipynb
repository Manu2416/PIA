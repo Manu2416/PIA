{
 "cells": [
  {
   "cell_type": "markdown",
   "id": "d4a27a39",
   "metadata": {},
   "source": [
    " Búsqueda de nombres y teléfonos en un diccionario\n",
    "\n",
    " Escribe un programa que tenga un diccionario de contactos hardcodeado\n",
    " (no hay que pedir al usuario que introduzca los datos, sino que los escribimos directamente en el código).\n",
    "Las claves del diccionario son nombres de personas y los valores son sus números de teléfono.\n",
    "\n",
    "El programa da la opción al usuario de introducir un texto de búsqueda y realiza la búsqueda para\n",
    "ese texto tanto en los nombres como en los números de teléfono. Si se encuentra una coincidencia por nombre, el programa devuelve por pantalla el número de teléfono asociado. Si se encuentra una coincidencia por teléfono, el programa devuelve por pantalla el nombre del usuario. Si no se encuentra ninguna coincidencia se indica por pantalla.\n",
    "\n",
    " El programa continúa ofreciendo una búsqueda al usuario hasta que este introduce la palabra “salir”."
   ]
  },
  {
   "cell_type": "code",
   "execution_count": 2,
   "id": "f9629363",
   "metadata": {},
   "outputs": [],
   "source": [
    "contactos = {\n",
    "    \"Gaston\": \"649066320\",\n",
    "    \"Encarna\": \"649066325\",\n",
    "    \"Maria\": \"649066321\",\n",
    "    \"Pablo\": \"649066328\",\n",
    "    \"Manu\": \"649066322\"\n",
    "}\n",
    "while (True):\n",
    "    busqueda = input(\"Que contantacto quieres buscar? pon salir para dejar tu busqueda\")\n",
    "\n",
    "    if busqueda == \"salir\":\n",
    "        break\n",
    "\n",
    "    if busqueda in contactos: \n",
    "        print(\"el numero de\",busqueda,\"es\",contactos[busqueda])\n",
    "\n",
    "    elif busqueda in contactos.values():\n",
    "        for _, numero in contactos.items():\n",
    "                if numero == busqueda:\n",
    "                    print(f\"El número {busqueda} pertenece a {_}\")\n",
    "                    break\n",
    "    else: \n",
    "        print(\"ese contacto no existe\")"
   ]
  },
  {
   "cell_type": "markdown",
   "id": "d1181caa",
   "metadata": {},
   "source": [
    "Ejercicio en papel"
   ]
  },
  {
   "cell_type": "code",
   "execution_count": 1,
   "id": "38a5876b",
   "metadata": {},
   "outputs": [
    {
     "ename": "IndexError",
     "evalue": "list index out of range",
     "output_type": "error",
     "traceback": [
      "\u001b[31m---------------------------------------------------------------------------\u001b[39m",
      "\u001b[31mIndexError\u001b[39m                                Traceback (most recent call last)",
      "\u001b[36mCell\u001b[39m\u001b[36m \u001b[39m\u001b[32mIn[1]\u001b[39m\u001b[32m, line 9\u001b[39m\n\u001b[32m      6\u001b[39m ListaPalabras = Palabra.split(\u001b[33m\"\u001b[39m\u001b[33m;\u001b[39m\u001b[33m\"\u001b[39m)\n\u001b[32m      8\u001b[39m \u001b[38;5;28;01mfor\u001b[39;00m i \u001b[38;5;129;01min\u001b[39;00m \u001b[38;5;28mrange\u001b[39m(\u001b[32m0\u001b[39m,\u001b[32m2\u001b[39m,\u001b[38;5;28mlen\u001b[39m(ListaPalabras)):\n\u001b[32m----> \u001b[39m\u001b[32m9\u001b[39m     Diccionario[ListaPalabras[i]] = \u001b[43mListaPalabras\u001b[49m\u001b[43m[\u001b[49m\u001b[43mi\u001b[49m\u001b[43m+\u001b[49m\u001b[32;43m1\u001b[39;49m\u001b[43m]\u001b[49m\n\u001b[32m     11\u001b[39m \u001b[38;5;28mprint\u001b[39m(ListaPalabras)\n\u001b[32m     13\u001b[39m \u001b[38;5;28mprint\u001b[39m (Diccionario)\n",
      "\u001b[31mIndexError\u001b[39m: list index out of range"
     ]
    }
   ],
   "source": [
    "Diccionario = {}\n",
    "\n",
    "while (True):\n",
    "    Palabra = input(\"dame una palabra y su traducion\")\n",
    "\n",
    "    ListaPalabras = Palabra.split(\";\")\n",
    "\n",
    "    for i in range(0,2,len(ListaPalabras)):\n",
    "        Diccionario[ListaPalabras[i]] = ListaPalabras[i+1]\n",
    "    \n",
    "    print(ListaPalabras)\n",
    "\n",
    "    print (Diccionario)\n",
    "\n",
    "    Frase_español = input(\"dame una frase \")\n",
    "\n",
    "    lista_a_traducir = Frase_español.split(\" \")\n",
    "\n",
    "    for i in range(len(lista_a_traducir)):\n",
    "        if lista_a_traducir[i] in Diccionario:\n",
    "            lista_a_traducir[i] = Diccionario[lista_a_traducir[i]]\n",
    "        \n",
    "    frase_traducida = \"\"\n",
    "\n",
    "    for i in range(len(lista_a_traducir)):\n",
    "        frase_traducida += lista_a_traducir[i]\n",
    "\n",
    "    print(frase_traducida)\n",
    "\n",
    "\n"
   ]
  },
  {
   "cell_type": "markdown",
   "id": "3f60f3e1",
   "metadata": {},
   "source": [
    "1. Escribir un programa que implemente una agenda. En la agenda se podrán guardar nombres y números de teléfono.\n",
    " El programa nos dará el siguiente menú:\n",
    "\n",
    "    Añadir/modificar: Nos pide un nombre. Si el nombre se encuentra en la agenda, debe mostrar el teléfono y,\n",
    "    opcionalmente, permitir modificarlo si no es correcto. Si el nombre no se encuentra, debe permitir ingresar el teléfono correspondiente.\n",
    "    Buscar: Nos pide una cadena de caracteres, y nos muestras todos los contactos cuyos nombres comiencen por\n",
    "    dicha cadena.\n",
    "    Borrar: Nos pide un nombre y si existe nos preguntará si queremos borrarlo de la agenda.\n",
    "    Listar: Nos muestra todos los contactos de la agenda."
   ]
  },
  {
   "cell_type": "code",
   "execution_count": null,
   "id": "58499abc",
   "metadata": {},
   "outputs": [
    {
     "name": "stdout",
     "output_type": "stream",
     "text": [
      "no\n",
      "que quieres hacer?\n",
      "1.Borrar\n",
      "2.Listar\n",
      "3 Buscar\n",
      "4 salir\n"
     ]
    }
   ],
   "source": [
    "agenda = {}\n",
    "def menu(agenda):\n",
    "    print(\"que quieres hacer?\")\n",
    "    print(\"1.Borrar\")\n",
    "    print(\"2.Listar\")\n",
    "    print(\"3 Buscar\")\n",
    "    print(\"4 salir\")\n",
    "    opcion = int(input(\"dime que quieres hacer\"))\n",
    "\n",
    "    if opcion == 1:\n",
    "        contacto_a_borrar = input(\"a quien quieres borrar\")\n",
    "        if contacto_a_borrar in agenda:\n",
    "            agenda.pop(contacto_a_borrar)\n",
    "            print(f\"{contacto_a_borrar} ha sido eliminado \")\n",
    "        else:\n",
    "            print(\" Ese contacto no existe en la agenda.\")\n",
    "\n",
    "    elif opcion == 2:\n",
    "        for contacto in agenda:\n",
    "            print(contacto)\n",
    "\n",
    "    elif opcion == 3:\n",
    "        contacto_a_buscar = input(\"¿A quién quieres buscar? \")\n",
    "        if contacto_a_buscar in agenda:\n",
    "            print(f\"el contacto {contacto_a_buscar} tiene el telefono {agenda[contacto_a_buscar]}\")\n",
    "        else:\n",
    "            print(\"Ese contacto no existe.\")\n",
    "    elif opcion == 4:\n",
    "         return \n",
    "    \n",
    "        \n",
    "  \n",
    "        \n",
    "   \n",
    "\n",
    "\n",
    "\n",
    "while True:\n",
    "    nombre_a_buscar = input(\"dame un nombre\")\n",
    "\n",
    "    if nombre_a_buscar in agenda:\n",
    "        print(agenda[nombre_a_buscar])\n",
    "        decision= input(\"quieres modificar el telefono?\")\n",
    "        if decision== \"si\":\n",
    "            telefono_nuevo = input(\"ingresame un telefono\")\n",
    "\n",
    "            agenda[nombre_a_buscar] = telefono_nuevo\n",
    "        \n",
    "        else:\n",
    "            menu(agenda)\n",
    "        \n",
    "\n",
    "    elif nombre_a_buscar not in agenda:\n",
    "        numero = input(\"dame su numero\")\n",
    "        agenda[nombre_a_buscar] = numero\n",
    "  \n",
    "\n",
    "        \n",
    "\n",
    "      \n",
    "    \n",
    "    \n",
    "\n",
    "\n"
   ]
  },
  {
   "cell_type": "markdown",
   "id": "1e51df64",
   "metadata": {},
   "source": [
    "2. Crea un programa que lleve el conteo de las distintas palabras introducidas en una frase pedida al usuario. Se le deben pedir frases al usuario hasta que diga que no quiere introducir más."
   ]
  },
  {
   "cell_type": "code",
   "execution_count": null,
   "id": "96a8c218",
   "metadata": {},
   "outputs": [
    {
     "name": "stdout",
     "output_type": "stream",
     "text": [
      "16\n",
      "Saliendo del programa...\n"
     ]
    },
    {
     "ename": "",
     "evalue": "",
     "output_type": "error",
     "traceback": [
      "\u001b[1;31mThe Kernel crashed while executing code in the current cell or a previous cell. \n",
      "\u001b[1;31mPlease review the code in the cell(s) to identify a possible cause of the failure. \n",
      "\u001b[1;31mClick <a href='https://aka.ms/vscodeJupyterKernelCrash'>here</a> for more info. \n",
      "\u001b[1;31mView Jupyter <a href='command:jupyter.viewOutput'>log</a> for further details."
     ]
    }
   ],
   "source": [
    "\n",
    "contador = 0\n",
    "while (True):\n",
    "    frase = input(\"Dame frases \")\n",
    "    if frase == \"No mas\":\n",
    "        print(\"Saliendo del programa...\")\n",
    "        break\n",
    "    else:\n",
    "        lista_frases = frase.split(\" \")\n",
    "\n",
    "        for frase in lista_frases:\n",
    "            contador += 1\n",
    "        print(contador)"
   ]
  },
  {
   "cell_type": "markdown",
   "id": "a7ac6612",
   "metadata": {},
   "source": [
    "3.Escribir un programa que cree un diccionario vacío y lo vaya llenando con información sobre una persona   (por ejemplo nombre, edad, sexo, teléfono, correo electrónico, etc.). Es el usuario quien dirá qué información introduce. Es decir, tanto las claves como los valores los da el usuario y son cambiantes. Cada vez que se añada una nueva persona debe imprimirse el contenido del diccionario. "
   ]
  },
  {
   "cell_type": "code",
   "execution_count": null,
   "id": "1658e797",
   "metadata": {},
   "outputs": [],
   "source": [
    "Diccionario={}\n",
    "\n",
    "información = input(\"dame informacion\")\n"
   ]
  }
 ],
 "metadata": {
  "kernelspec": {
   "display_name": ".venv",
   "language": "python",
   "name": "python3"
  },
  "language_info": {
   "codemirror_mode": {
    "name": "ipython",
    "version": 3
   },
   "file_extension": ".py",
   "mimetype": "text/x-python",
   "name": "python",
   "nbconvert_exporter": "python",
   "pygments_lexer": "ipython3",
   "version": "3.13.7"
  }
 },
 "nbformat": 4,
 "nbformat_minor": 5
}
