{
 "cells": [
  {
   "cell_type": "markdown",
   "id": "d4a27a39",
   "metadata": {},
   "source": [
    " Búsqueda de nombres y teléfonos en un diccionario\n",
    "\n",
    "# Escribe un programa que tenga un diccionario de contactos hardcodeado\n",
    "# (no hay que pedir al usuario que introduzca los datos, sino que los escribimos directamente en el código).\n",
    "#  Las claves del diccionario son nombres de personas y los valores son sus números de teléfono.\n",
    "\n",
    "# El programa da la opción al usuario de introducir un texto de búsqueda y realiza la búsqueda para\n",
    "# ese texto tanto en los nombres como en los números de teléfono. Si se encuentra una coincidencia por nombre, el programa devuelve por pantalla el número de teléfono asociado. Si se encuentra una coincidencia por teléfono, el programa devuelve por pantalla el nombre del usuario. Si no se encuentra ninguna coincidencia se indica por pantalla.\n",
    "\n",
    "# El programa continúa ofreciendo una búsqueda al usuario hasta que este introduce la palabra “salir”."
   ]
  },
  {
   "cell_type": "code",
   "execution_count": null,
   "id": "f9629363",
   "metadata": {},
   "outputs": [
    {
     "name": "stdout",
     "output_type": "stream",
     "text": [
      "ese contacto no existe\n",
      "ese contacto no existe\n",
      "El nombre Maria pertenece a 649066321\n",
      "ese contacto no existe\n",
      "ese contacto no existe\n",
      "El nombre Maria pertenece a 649066321\n",
      "ese contacto no existe\n",
      "ese contacto no existe\n",
      "ese contacto no existe\n",
      "ese contacto no existe\n",
      "El nombre Manu pertenece a 649066322\n"
     ]
    }
   ],
   "source": [
    "contactos = {\n",
    "    \"Gaston\": \"649066320\",\n",
    "    \"Encarna\": \"649066325\",\n",
    "    \"Maria\": \"649066321\",\n",
    "    \"Pablo\": \"649066328\",\n",
    "    \"Manu\": \"649066322\"\n",
    "}\n",
    "while (True):\n",
    "    busqueda = input(\"Que contantacto quieres buscar? pon salir para dejar tu busqueda\")\n",
    "\n",
    "    if busqueda == \"salir\":\n",
    "        break\n",
    "\n",
    "    if busqueda in contactos: \n",
    "        print(\"el numero de\",busqueda,\"es\",contactos[busqueda])\n",
    "\n",
    "    elif busqueda in contactos.values():\n",
    "        for _, numero in contactos.items():\n",
    "                if numero == busqueda:\n",
    "                    print(f\"El número {busqueda} pertenece a {_}\")\n",
    "                    break\n",
    "    else: \n",
    "        print(\"ese contacto no existe\")"
   ]
  }
 ],
 "metadata": {
  "kernelspec": {
   "display_name": ".venv",
   "language": "python",
   "name": "python3"
  },
  "language_info": {
   "codemirror_mode": {
    "name": "ipython",
    "version": 3
   },
   "file_extension": ".py",
   "mimetype": "text/x-python",
   "name": "python",
   "nbconvert_exporter": "python",
   "pygments_lexer": "ipython3",
   "version": "3.13.7"
  }
 },
 "nbformat": 4,
 "nbformat_minor": 5
}
