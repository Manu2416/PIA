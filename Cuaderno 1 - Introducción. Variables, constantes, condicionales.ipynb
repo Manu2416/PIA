{
 "cells": [
  {
   "cell_type": "markdown",
   "id": "bd62bdae",
   "metadata": {},
   "source": [
    "# Cuaderno 1: Variables, Tipos y Decisiones\n",
    "\n",
    "En este cuaderno aprenderás a:\n",
    "- Utilizar sintaxis básica de markdown\n",
    "- Gestionar los distintos tipos de variables\n",
    "- Aplicar operadores para generar expresiones\n",
    "- Utilizar la sentencia import\n",
    "- Transformar tipos de datos\n",
    "- Operar con cadenas\n",
    "- Sentencia if, else, elif para decisiones"
   ]
  },
  {
   "attachments": {
    "image.png": {
     "image/png": "[encoded data removed]"
    }
   },
   "cell_type": "markdown",
   "id": "4e0b41b9",
   "metadata": {},
   "source": [
    "## Introducción a markdown\n",
    "\n",
    "*Esto es una cursiva*\n",
    "**Esto es negrita** \n",
    "\n",
    "### esto es un header de nivel 3\n",
    "#### esto es un header de nivel 4\n",
    "\n",
    "Esto es una lista de elementos no numerados:\n",
    "- Elemento 1\n",
    "- Elemento 2\n",
    "\n",
    "Esto es una lista de elementos numerados:\n",
    "1. Elemento 1\n",
    "    1.1 Elemento 1.1\n",
    "2. Elemento 2\n",
    "    2.1. Elemetno 2.1\n",
    "    \n",
    "Esto es un enlace: \n",
    "[Pulsa aquí para ir a la página de python](python.org)\n",
    "Esto es una imagen\n",
    "![image.png](attachment:image.png)\n",
    "\n",
    "Esto es una fórmula matemática en formato latex $a=a+1$\n",
    "\n",
    "\n",
    " y en formato centrado $$\\sqrt{x^2+1}$$\n",
    " \n",
    "```python\n",
    "#esto es código dentro de la documentación al estilo python\n",
    "a=2\n",
    "for i in range(1..a):\n",
    "  print(a*i)\n",
    "```\n",
    "\n",
    "\n",
    "\n",
    "\n",
    "\n",
    "En este curso utilizaremos los cuadernos de Jupyter para:\n",
    "1. Trabajar los conceptos teórico-prácticos del lenguaje.\n",
    "2. Para la presentación de prácticas.\n",
    "Es importante que conozcas Markdown para explicar claramente tu lógica de procesamiento en los ejercicios.\n",
    "\n",
    "Si quieres aprender más de markdown: [Pulsa aquí](https://markdown.es/sintaxis-markdown/)\n",
    "\n"
   ]
  },
  {
   "cell_type": "markdown",
   "id": "b8fbdbeb",
   "metadata": {},
   "source": [
    "## Comentarios en python\n",
    "\n",
    "Es texto ignorado por el intérprete, usado para documentar un programa o línea de código\n",
    "Dos tipos\n",
    "```python\n",
    "#esto es un comentario de línea\n",
    "\n",
    "a=a+2 #todo lo que sigue al # es ignorado\n",
    "\n",
    "\"\"\"\n",
    "Esto es un comentario de bloque\n",
    "Puedo meter dentro del comentario del bloque\n",
    "todas las líneas que quiera que serán ignoradas.\n",
    "\"\"\"\n",
    "\n",
    "```"
   ]
  },
  {
   "cell_type": "markdown",
   "id": "0696a552",
   "metadata": {},
   "source": [
    "## Variables en python\n",
    "\n",
    "Una variable es un espacio de memoria reservado dentro de un programa con un identificador para poder referenciarlo. En python podemos crear variables sin necesidad de declararlas. Tenemos variables de varios tipos:\n",
    "\n",
    "- números: Enteros, flotantes y complejo\n",
    "- booleanos\n",
    "- cadenas de caracteres\n",
    "- listas\n",
    "- tuplas\n",
    "- diccionarios\n",
    "\n",
    "En Python, las variables no requieren declaración explícita. Una variable se crea en el momentoque le asigna un valor por primera vez. \n",
    "Se dice que el tipado es DINÁMICO\n",
    "\n",
    "Las constantes se declaran en mayúscilas e idealmente no deben cambiar durante la ejecución del programa. \n",
    "Esto es una convención de sintaxis pero en realidad no hay diferencias entre una variable y una constante\n",
    "\n",
    "\n",
    "Veremos los tipos complejos más adelante en detalle."
   ]
  },
  {
   "cell_type": "code",
   "execution_count": null,
   "id": "a7858167",
   "metadata": {},
   "outputs": [
    {
     "name": "stdout",
     "output_type": "stream",
     "text": [
      "3 -3 True 255 (3+2j) 24.3 Esto es una cadena de caracteres [2, 3, 4, 5] (2, 3) {'nombre': 'ivan', 'apellidos': 'lopez'}\n",
      "<class 'int'> <class 'int'> <class 'bool'> <class 'int'> <class 'complex'> <class 'float'> <class 'str'> <class 'list'> <class 'tuple'> <class 'dict'>\n"
     ]
    }
   ],
   "source": [
    "# ejemplos de variables\n",
    "a = 3  #entero\n",
    "b = -3 #entero con signo\n",
    "\n",
    "c = a > b #c es booleana con valor True (en general True o False)\n",
    "\n",
    "d = 0xFF #entero en hexadecimal\n",
    "\n",
    "e =3 + 2j #complejo\n",
    "\n",
    "f = 24.3 #flotante\n",
    "\n",
    "g = \"Esto es una cadena de caracteres\"\n",
    "\n",
    "h= [2, 3 , 4, 5]  #esto es una lista\n",
    "\n",
    "i=(2, 3) #esto es un tupla\n",
    "\n",
    "j={\"nombre\":\"ivan\", \"apellidos\":\"lopez\"} #esto es un diccionario\n",
    "\n",
    "print(a, b, c, d, e, f, g, h, i, j)\n",
    "print(type(a), type(b), type(c), type(d), type(e), type(f), type(g), type(h), type(i), type(j))"
   ]
  },
  {
   "cell_type": "markdown",
   "id": "ee79a8c6",
   "metadata": {},
   "source": [
    "### Restricciones sobre el nombre de las variables\n",
    "- No pueden empezar ni contener carácteres especiales\n",
    "- No pueden empezar por números\n",
    "- No pueden ser llamadas igual que las palabras claves reservadas en Python\n",
    "- No pueden contener espacios\n",
    "\n",
    "**Observación.** Conviene que al darle nombre a una variable, éste tenga sentido en cuanto al dato que guarde, para que así resulte mucho más fácil la comprensión por parte de quien lea el código.\n",
    "\n",
    "**Observación.** A día de hoy, si los nombres de las variables están compuestos por múltiples palabras, hay 4 formas de escribir dichos nombres:\n",
    "- camelCase: `nombreMascota` (PEP8 para clases)\n",
    "- PascalCase: `NombreMascota`\n",
    "- snake_case: `nombre_mascota` (PEP8 para variables y métodos)\n",
    "- kebab-case: `nombre-mascota`\n",
    "\n",
    "La PEP8 es la guía que indica las conveciones de nomenclatura para código Python. \n",
    "Consúltala [aquí] para saber más.\n",
    "\n",
    "**Python, como todos los lenguajes tiene una serie de palabras reservadas. Las puedes ver aquí:"
   ]
  },
  {
   "cell_type": "code",
   "execution_count": 1,
   "id": "d3b2eafb",
   "metadata": {},
   "outputs": [
    {
     "data": {
      "text/plain": [
       "['False',\n",
       " 'None',\n",
       " 'True',\n",
       " 'and',\n",
       " 'as',\n",
       " 'assert',\n",
       " 'async',\n",
       " 'await',\n",
       " 'break',\n",
       " 'class',\n",
       " 'continue',\n",
       " 'def',\n",
       " 'del',\n",
       " 'elif',\n",
       " 'else',\n",
       " 'except',\n",
       " 'finally',\n",
       " 'for',\n",
       " 'from',\n",
       " 'global',\n",
       " 'if',\n",
       " 'import',\n",
       " 'in',\n",
       " 'is',\n",
       " 'lambda',\n",
       " 'nonlocal',\n",
       " 'not',\n",
       " 'or',\n",
       " 'pass',\n",
       " 'raise',\n",
       " 'return',\n",
       " 'try',\n",
       " 'while',\n",
       " 'with',\n",
       " 'yield']"
      ]
     },
     "execution_count": 1,
     "metadata": {},
     "output_type": "execute_result"
    }
   ],
   "source": [
    "import keyword\n",
    "keyword.kwlist"
   ]
  },
  {
   "cell_type": "markdown",
   "id": "0b885898",
   "metadata": {},
   "source": []
  },
  {
   "cell_type": "markdown",
   "id": "b3226945",
   "metadata": {},
   "source": [
    "### Declarando múltiples variables en una sola línea\n",
    "\n",
    "Se hace del siguiente modo:"
   ]
  },
  {
   "cell_type": "code",
   "execution_count": 2,
   "id": "6145edd0",
   "metadata": {},
   "outputs": [
    {
     "name": "stdout",
     "output_type": "stream",
     "text": [
      "22 Maria\n"
     ]
    }
   ],
   "source": [
    "age, name = 22, \"Maria\"\n",
    "print(age,name)"
   ]
  },
  {
   "cell_type": "markdown",
   "id": "6b874504",
   "metadata": {},
   "source": [
    "### Operando con una variable numérica\n",
    "\n",
    "Una vez hemos guardado un valor numérico en una variable, podemos operar con él:"
   ]
  },
  {
   "cell_type": "code",
   "execution_count": null,
   "id": "2e036292",
   "metadata": {},
   "outputs": [
    {
     "data": {
      "text/plain": [
       "4"
      ]
     },
     "execution_count": 13,
     "metadata": {},
     "output_type": "execute_result"
    }
   ],
   "source": [
    "x = 3\n",
    "x + 1"
   ]
  },
  {
   "cell_type": "markdown",
   "id": "9440a0a1",
   "metadata": {},
   "source": [
    "Incluso podemos guardar ese valor en una nueva variable, con el operador asignación:\n"
   ]
  },
  {
   "cell_type": "code",
   "execution_count": null,
   "id": "762a4c9b",
   "metadata": {},
   "outputs": [
    {
     "data": {
      "text/plain": [
       "(3, 5)"
      ]
     },
     "execution_count": 14,
     "metadata": {},
     "output_type": "execute_result"
    }
   ],
   "source": [
    "x=3\n",
    "y=x+2\n",
    "\n",
    "x,y"
   ]
  },
  {
   "cell_type": "markdown",
   "id": "cc47fabf",
   "metadata": {},
   "source": [
    "#### Operadores aritméticos para expresiones\n",
    "\n",
    "Podemos generar expresiones para hacer cálculos con:\n",
    "- los operadores binarios +, -, *, /, // (div entera), *** (potencia, también se puede usar la función pow(a,b)) y % módulo\n",
    "- los operadores unarios +, -\n"
   ]
  },
  {
   "cell_type": "code",
   "execution_count": null,
   "id": "e5f0f3d5",
   "metadata": {},
   "outputs": [
    {
     "name": "stdout",
     "output_type": "stream",
     "text": [
      "13 -7 30 -3 3\n",
      "3.3333333333333335 3 1000 1\n",
      "1000.0\n"
     ]
    }
   ],
   "source": [
    "#ejemplos\n",
    "x=3\n",
    "y=10\n",
    "\n",
    "print(x+y,x-y,x*y,-x,+x)\n",
    "print(y/x,y//x,y**x,y%x)\n",
    "print(pow(y,x))"
   ]
  },
  {
   "cell_type": "markdown",
   "id": "b82c706e",
   "metadata": {},
   "source": [
    "#### Orden de las operaciones aritméticas - Operadores de prioridad\n",
    "\n",
    "El orden en que se llevan a cabo las operaciones aritméticas en `Python` es el siguiente:\n",
    "\n",
    "- Primero se calcula lo que se halla entre paréntesis.\n",
    "- A continuación, las potencias.\n",
    "- Después, productos y divisiones. En caso de haber varias, el orden que se sigue es de izquierda a derecha.\n",
    "- Finalmente, sumas y restas. En caso de haber varias, el orden que se sigue es de izquierda a derecha.\n"
   ]
  },
  {
   "cell_type": "code",
   "execution_count": null,
   "id": "67adb74c",
   "metadata": {},
   "outputs": [
    {
     "name": "stdout",
     "output_type": "stream",
     "text": [
      "2.0\n",
      "8.0\n"
     ]
    }
   ],
   "source": [
    "print(6 + 2 * 8 / 4 - 2 ** 3)\n",
    "print((6 + 2) * 8 / (4 - 2) ** 3)\n"
   ]
  },
  {
   "cell_type": "markdown",
   "id": "4877bf5a",
   "metadata": {},
   "source": [
    "#### Operadores de asignación\n",
    "El operador += calcula la expresión al lado derecho del operador y suma al valor de la variable el resultado de la expresión\n",
    "\n",
    "\n",
    "**Observación.** Al igual que existe `+=`, también tenemos `-=`, `*=`, `/=`, `//=`, `%=` y `**=`, que son el equivalente a `+=` con el resto de operaciones aritméticas existentes en `Python`."
   ]
  },
  {
   "cell_type": "code",
   "execution_count": null,
   "id": "88263373",
   "metadata": {},
   "outputs": [
    {
     "name": "stdout",
     "output_type": "stream",
     "text": [
      "5\n",
      "10\n"
     ]
    }
   ],
   "source": [
    "# ejemplo de operador +=\n",
    "\n",
    "x=3\n",
    "x+=2  #x recibe x+2\n",
    "print(x)\n",
    "\n",
    "y=2\n",
    "z=3\n",
    "x+=(y+z) #x recibe x+(y+z)\n",
    "print(x)\n",
    "\n"
   ]
  },
  {
   "cell_type": "markdown",
   "id": "c9b802b2",
   "metadata": {},
   "source": [
    "## La función `import`\n",
    "Antes de explicar en qué consiste la función `import`, hay que definir los siguientes conceptos:\n",
    "\n",
    "- **Algoritmo.** Conjunto ordenado de operaciones sistemáticas que permite hacer un cálculo y hallar la solución de un problema.\n",
    "- **Función.** Bloque de código con un nombre asociado, que recibe cero o más argumentos como entrada, sigue una secuencia de sentencias, la cuales ejecuta una operación deseada y devuelve un valor y/o realiza una tarea.\n",
    "- **Script.** Archivo diseñado para ser ejecutado. Puede contener funciones, programas, etc.\n",
    "- **Módulo.** Script que contiene colecciones de funciones, definiciones y declaraciones de `Python`.\n",
    "\n",
    "Las funciones de un módulo pueden ser importadas. Es aquí donde entra en juego la función `import`.\n",
    "\n",
    "Por ejemplo, vamos a importar el módulo `math` que permite utilizar funciones matemáticas.\n",
    "\n",
    "La PEP8 recomienda importar sólo las funciones que se vayan a utilizar con el objetivo de mantener el código lo más conciso posible."
   ]
  },
  {
   "cell_type": "code",
   "execution_count": null,
   "id": "cd1a950a",
   "metadata": {},
   "outputs": [
    {
     "data": {
      "text/plain": [
       "1.0"
      ]
     },
     "execution_count": 22,
     "metadata": {},
     "output_type": "execute_result"
    }
   ],
   "source": [
    "import math\n",
    "\n",
    "a=math.sin(math.pi/2)\n",
    "a"
   ]
  },
  {
   "cell_type": "code",
   "execution_count": null,
   "id": "18e52cb0",
   "metadata": {},
   "outputs": [
    {
     "name": "stdout",
     "output_type": "stream",
     "text": [
      "3.141592653589793\n",
      "3.141592653589793\n",
      "3.141592653589793\n",
      "6.283185307179586\n",
      "6.283185307179586\n"
     ]
    }
   ],
   "source": [
    "# variantes de import\n",
    "\n",
    "#con sinónimo\n",
    "import math as mt  \n",
    "print(mt.pi)\n",
    "\n",
    "\n",
    "#importar tan sólo una definición\n",
    "from math import pi\n",
    "print(pi)\n",
    "\n",
    "#importar tan sólo una definición con sinonimo\n",
    "from math import pi as numero_pi\n",
    "print(numero_pi)\n",
    "\n",
    "#importar varias definiciones\n",
    "from math import pi, log, exp\n",
    "print(log(100,10)*pi)\n",
    "\n",
    "#importar todas las definiciones (no recomendado)\n",
    "from math import *\n",
    "print(log(100,10)*pi)\n",
    "\n"
   ]
  },
  {
   "cell_type": "markdown",
   "id": "ce6cb3c9",
   "metadata": {},
   "source": [
    "#### Uso de pip\n",
    "\n",
    "Hay una serie de módulos predfinidos incluidos con la biblioteca estándar de Python que no será necesario instalar.\n",
    "Los puedes consultar aquí: [https://docs.python.org/es/3/library/index.html](https://docs.python.org/es/3/library/index.html)\n",
    "\n",
    "Para los demás tendremos primero que instalarlos con el comando *pip*\n",
    "\n",
    "Aquí es donde entran en juego los entornos virtuales:\n",
    "1. Para modulos de uso general no es necesario. Pip lo instalará en el directorio general de python (algo como C:\\PythonX.X\\Lib\\site-packages\\ para windows)\n",
    "2. Para módulos e incluso versiones específicos para proyectos es recomendable configurar un entorno virtual para evitar choques de dependencias."
   ]
  },
  {
   "cell_type": "markdown",
   "id": "5c720703",
   "metadata": {},
   "source": [
    "### Conversiones de tipo\n",
    "Python es un lenguaje de tipado dinámico, es decir,\n",
    "\n",
    "1. No es necesario definir previamente el tipo de datos de nuestras variables. El intérprete lo asigna en tiempo de ejecución.\n",
    "2. Se puede cambiar el tipo de la variable original\n",
    "\n"
   ]
  },
  {
   "cell_type": "code",
   "execution_count": null,
   "id": "6e84b30d",
   "metadata": {},
   "outputs": [
    {
     "name": "stdout",
     "output_type": "stream",
     "text": [
      "<class 'int'>\n",
      "<class 'str'>\n"
     ]
    }
   ],
   "source": [
    "a=5\n",
    "print(type(a))\n",
    "a=\"Hola\"\n",
    "print(type(a))"
   ]
  },
  {
   "cell_type": "markdown",
   "id": "b5bc36a0",
   "metadata": {},
   "source": [
    "También se puede realizar conversiones explícitas utilizando funciones para conversión, por ejemplo:\n",
    "int, str,float, etc...\n"
   ]
  },
  {
   "cell_type": "code",
   "execution_count": null,
   "id": "4534d8e4",
   "metadata": {},
   "outputs": [
    {
     "name": "stdout",
     "output_type": "stream",
     "text": [
      "<class 'float'> 3.5\n",
      "<class 'int'> 3\n",
      "<class 'str'> 3\n"
     ]
    }
   ],
   "source": [
    "a=3.5\n",
    "print(type(a),a)\n",
    "\n",
    "a=int(a)\n",
    "print(type(a),a)\n",
    "\n",
    "a=str(a)\n",
    "print(type(a),a)\n"
   ]
  },
  {
   "cell_type": "markdown",
   "id": "555480a3",
   "metadata": {},
   "source": [
    "# Cadenas de caracteres en python - Variable de tipo string\n",
    "\n",
    "**String.** Cadena ordenada de caracteres.\n",
    "\n",
    "Una variable de tipo string es aquella que guarda una cadena de caracteres. Pueden ir:\n",
    "1. entre comillas simples `' ' `, normalmente utilizados por convencion para contener literales de cadena\n",
    "2. entre comillas dobles `\" \"`, normalmente utilizados para contener mensajes similares al lenguaje natural\n",
    "3. entre comillas triples `''' '''`, utilizados para docStrings, también se puede `\"\"\" \"\"\"` pero por convención, no se recomienda"
   ]
  },
  {
   "cell_type": "code",
   "execution_count": null,
   "id": "1c4f03fc",
   "metadata": {},
   "outputs": [
    {
     "data": {
      "text/plain": [
       "(str, str, str, str)"
      ]
     },
     "execution_count": 43,
     "metadata": {},
     "output_type": "execute_result"
    }
   ],
   "source": [
    "s1='mi-identicador1'\n",
    "s2 = \"Esto es un string entre comillas dobles\"\n",
    "s3 = '''Esta función realiza la acción X con argumentos \n",
    " x, para xxxx\n",
    " y, para yyyy'''\n",
    "s4= \"\"\" Esta función realiza la acción X con argumentos \n",
    " x, para xxxx\n",
    " y, para yyyy\"\"\"\n",
    "type(s1),type(s2),type(s3),type(s4)"
   ]
  },
  {
   "cell_type": "markdown",
   "id": "b23a8cbb",
   "metadata": {},
   "source": [
    "### String literals\n",
    "\n",
    "El hecho de que el contenido de las variables de tipo `str` vaya entre comillas, ya sean simples o dobles, conlleva a que algunos caracteres deban ser tratados de forma especial. \n",
    "\n",
    "Aquí entran en juego los string literals. Algunos de los más utilizados se muestran en la siguiente tabla:\n",
    "\n",
    "Código | Significado |\n",
    "--- | --- |\n",
    "`\\\\` | Backslash, `\\`| \n",
    "`\\'` | Comilla simple, `'`| \n",
    "`\\\"` | Comilla doble, `\"`|  \n",
    "`\\n` | Salto de línea| \n",
    "`\\t` | Tabulación horizontal| \n",
    "\n",
    "Para más información acerca de los string literals ir a la [documentación](https://docs.python.org/3.7/reference/lexical_analysis.html#string-and-bytes-literals).\n"
   ]
  },
  {
   "cell_type": "code",
   "execution_count": null,
   "id": "2710160b",
   "metadata": {},
   "outputs": [
    {
     "name": "stdout",
     "output_type": "stream",
     "text": [
      "Vader said, \t \"no!, I am your father\" \n",
      "\n"
     ]
    }
   ],
   "source": [
    "#ejemplo\n",
    "s1 = \"Vader said, \\t \\\"no!, I am your father\\\" \\n\"\n",
    "print(s1)"
   ]
  },
  {
   "cell_type": "markdown",
   "id": "5bd4d1d5",
   "metadata": {},
   "source": [
    "## Concatenación de strings\n",
    "\n",
    "La concatenación es una operación que une dos o más strings en uno solo.\n",
    "\n",
    "En `Python`, para concatenar dos variables de tipo string usamos la función `+`."
   ]
  },
  {
   "cell_type": "code",
   "execution_count": null,
   "id": "ad4fa84c",
   "metadata": {},
   "outputs": [
    {
     "name": "stdout",
     "output_type": "stream",
     "text": [
      "Introduce tu nombre:Iván\n",
      "Hola Iván\n"
     ]
    }
   ],
   "source": [
    "#ejemplo\n",
    "a=input(\"Introduce tu nombre:\")\n",
    "print(\"Hola \"+a)"
   ]
  },
  {
   "cell_type": "markdown",
   "id": "ee2466cd",
   "metadata": {},
   "source": [
    "## Repetición de strings\n",
    "\n",
    "La repetición es una operación que repite la variable string tantas veces como indiquemos.\n",
    "\n",
    "En `Python`, para repetir una variable de tipo string usamos la función `*`. El orden de los factores no altera el producto. Es decir, tanto da usar la sintaxis `num_repeticiones * variable_str` como `variable_str * num__repeticiones`."
   ]
  },
  {
   "cell_type": "code",
   "execution_count": null,
   "id": "5c771537",
   "metadata": {},
   "outputs": [
    {
     "name": "stdout",
     "output_type": "stream",
     "text": [
      "¿Falta mucho?, papá ¿Falta mucho?, papá ¿Falta mucho?, papá ¿Falta mucho?, papá ¿Falta mucho?, papá \n"
     ]
    }
   ],
   "source": [
    "cadena=\"¿Falta mucho?, papá \"\n",
    "cadena*=5\n",
    "print(cadena)"
   ]
  },
  {
   "cell_type": "markdown",
   "id": "4ed309b7",
   "metadata": {},
   "source": [
    "### La función `str()`\n",
    "\n",
    "Con la función `str()`, podemos concatenar strings y variables de cualquier tipo dentro de un `print()`:\n"
   ]
  },
  {
   "cell_type": "code",
   "execution_count": null,
   "id": "3c8c4481",
   "metadata": {},
   "outputs": [
    {
     "name": "stdout",
     "output_type": "stream",
     "text": [
      "Mi hermana se llama María y su edad es 22\n"
     ]
    }
   ],
   "source": [
    "nombre = \"María\"\n",
    "edad = 22\n",
    "print(\"Mi hermana se llama \" + nombre + \" y su edad es \" + str(edad))"
   ]
  },
  {
   "attachments": {
    "image.png": {
     "image/png": "[encoded data removed]"
    }
   },
   "cell_type": "markdown",
   "id": "dcfe52ed",
   "metadata": {},
   "source": [
    "### El método `.format()`\n",
    "\n",
    "Existe otra forma de concatenar strings y variables de cualquier tipo dentro de un `print()` y es gracias al método `.format()`. Lo que hay que hacer es indicar con llaves, `{}`, donde queremos situar el resultado de las variables y luego, dentro de los paréntesis del método `.format()`, indicar las variables en su respectivo orden:\n",
    "![image.png](attachment:image.png)\n",
    "\n",
    "\n"
   ]
  },
  {
   "cell_type": "code",
   "execution_count": null,
   "id": "64699c60",
   "metadata": {},
   "outputs": [
    {
     "name": "stdout",
     "output_type": "stream",
     "text": [
      "Mi mujer se llama María y tiene 4 gatos\n"
     ]
    }
   ],
   "source": [
    "nombre = \"María\"\n",
    "numero_gatos = 4\n",
    "print(\"Mi mujer se llama {} y tiene {} gatos\".format(nombre, numero_gatos))"
   ]
  },
  {
   "cell_type": "code",
   "execution_count": null,
   "id": "f87ebaf8",
   "metadata": {},
   "outputs": [
    {
     "name": "stdout",
     "output_type": "stream",
     "text": [
      "binary value of 255 is 11111111\n"
     ]
    }
   ],
   "source": [
    "print(\"binary value of 255 is {0:b}\".format(255))\n"
   ]
  },
  {
   "cell_type": "code",
   "execution_count": null,
   "id": "d460004b",
   "metadata": {},
   "outputs": [
    {
     "data": {
      "text/plain": [
       "'Pi, rounded to three decimal places: 3.142'"
      ]
     },
     "execution_count": 61,
     "metadata": {},
     "output_type": "execute_result"
    }
   ],
   "source": [
    "## también se pueden utilizar las cadenas de formato f\"\n",
    "formatted_pi = f\"Pi, rounded to three decimal places: {pi:.3f}\"\n",
    "formatted_pi"
   ]
  },
  {
   "cell_type": "markdown",
   "id": "8a686678",
   "metadata": {},
   "source": [
    "## Substrings\n",
    "\n",
    "Para acceder a un caracter de una variable string usamos la sintaxis de `[]` `Lst[ Initial : End : IndexJump ]`.\n",
    "\n",
    "A la técnica de extraer partes de secuencias con una notación de principio-fin se le llama **slicing**\n",
    "\n",
    "Un string es una secuencia de caracteres.\n"
   ]
  },
  {
   "cell_type": "code",
   "execution_count": null,
   "id": "3d65d3af",
   "metadata": {},
   "outputs": [
    {
     "data": {
      "text/plain": [
       "4"
      ]
     },
     "execution_count": 66,
     "metadata": {},
     "output_type": "execute_result"
    }
   ],
   "source": [
    "s=\"1234\"\n",
    "len(s)"
   ]
  },
  {
   "cell_type": "code",
   "execution_count": null,
   "id": "6c0c1eb7",
   "metadata": {},
   "outputs": [
    {
     "name": "stdout",
     "output_type": "stream",
     "text": [
      "S primer caracter\n",
      "a sexto caracter\n",
      "s ultimo caracter\n",
      "s ultimo caracter\n",
      "g tercer caracter empezando por el final\n",
      "So caracteres del primer al seguno\n",
      "o a e\n"
     ]
    }
   ],
   "source": [
    "s = \"Soy fan de los videojuegos\"\n",
    "print(s[0],\"primer caracter\")\n",
    "print(s[5],\"sexto caracter\")\n",
    "print(s[len(s)-1],\"ultimo caracter\")\n",
    "print(s[-1],\"ultimo caracter\")\n",
    "print(s[-3],\"tercer caracter empezando por el final\")\n",
    "print(s[0:2],\"caracteres del primer al segundo\")\n",
    "print(s[1:10:2])\n"
   ]
  },
  {
   "cell_type": "code",
   "execution_count": null,
   "id": "0110d8ac",
   "metadata": {},
   "outputs": [
    {
     "name": "stdout",
     "output_type": "stream",
     "text": [
      "Original:    Python es un lenguaje de programacion.   \n",
      "Capitalize:    python es un lenguaje de programacion.   \n",
      "Swapcase:    pYTHON ES UN LENGUAJE DE PROGRAMACION.   \n",
      "Replace:    Java es un lenguaje de programacion.   \n",
      "Split: ['', '', '', 'Python', 'es', 'un', 'lenguaje', 'de', 'programacion.', '', '', '']\n",
      "Strip: Python es un lenguaje de programacion.\n"
     ]
    }
   ],
   "source": [
    "## Funciones de cadena\n",
    "\n",
    "cadena_original = \"   Python es un lenguaje de programacion.   \"\n",
    "\n",
    "# capitalize(): Convierte el primer caracter en mayusculas\n",
    "cadena_capitalize = cadena_original.capitalize()\n",
    "\n",
    "# swapcase(): Invierte las mayusculas y minusculas\n",
    "cadena_swapcase = cadena_original.swapcase()\n",
    "\n",
    "# replace(old, new): Reemplaza un substring por otro\n",
    "cadena_replace = cadena_original.replace(\"Python\", \"Java\")\n",
    "\n",
    "# split(separator): Divide la cadena en una lista utilizando un separador\n",
    "cadena_split = cadena_original.split(\" \")\n",
    "\n",
    "# strip(): Elimina espacios en blanco en ambos extremos de la cadena\n",
    "cadena_strip = cadena_original.strip()\n",
    "\n",
    "# rstrip() y lstrip(): Elimina espacios a la derecha e izquierda respectivamente\n",
    "cadena_rstrip = cadena_original.rstrip()\n",
    "cadena_lstrip = cadena_original.lstrip()\n",
    "\n",
    "# find(substring): Retorna el indice de la primera ocurrencia de un substring (-1 si no se encuentra)\n",
    "indice_find = cadena_original.find(\"lenguaje\")\n",
    "\n",
    "# index(substring): Similar a find, pero lanza una excepcion si no se encuentra el substring\n",
    "indice_index = cadena_original.index(\"lenguaje\")\n",
    "\n",
    "# rindex(substring): Retorna el indice de la ultima ocurrencia de un substring\n",
    "indice_rindex = cadena_original.rindex(\"a\")\n",
    "\n",
    "# len(): Retorna la longitud de la cadena\n",
    "longitud_cadena = len(cadena_original)\n",
    "\n",
    "# title(): Convierte la primera letra de cada palabra a mayusculas\n",
    "cadena_title = cadena_original.title()\n",
    "\n",
    "# count(substring): Cuenta las ocurrencias de un substring en la cadena\n",
    "conteo_a = cadena_original.count(\"a\")\n",
    "\n",
    "# upper() y lower(): Convierte la cadena a mayusculas y minusculas respectivamente\n",
    "cadena_upper = cadena_original.upper()\n",
    "cadena_lower = cadena_original.lower()\n",
    "\n",
    "# Impresion de algunos resultados\n",
    "print(\"Original:\", cadena_original)  \n",
    "# Salida: \"   Python es un lenguaje de programacion.   \"\n",
    "\n",
    "print(\"Capitalize:\", cadena_capitalize)  \n",
    "# Salida: \"   python es un lenguaje de programacion.   \"\n",
    "\n",
    "print(\"Swapcase:\", cadena_swapcase) \n",
    "# Salida: \"   pYTHON ES UN LENGUAJE DE PROGRAMACION.   \"\n",
    "\n",
    "print(\"Replace:\", cadena_replace)  \n",
    "# Salida: \"   Java es un lenguaje de programacion.   \"\n",
    "\n",
    "print(\"Split:\", cadena_split)  \n",
    "# Salida: ['', '', '', 'Python', 'es', 'un', \n",
    "#          'lenguaje', 'de', 'programacion.', '', '', '']\n",
    "\n",
    "print(\"Strip:\", cadena_strip)  \n",
    "# Salida: \"Python es un lenguaje de programacion.\""
   ]
  },
  {
   "cell_type": "markdown",
   "id": "169ec954",
   "metadata": {},
   "source": [
    "## Expresiones booleanas\n",
    "\n",
    "Además de los operadores de asignación y aritméticos, podemos utilizar los operadores lógicos (not, or, and) y los operadores de comparación (>, <, <=, >=, !=, ==)\n",
    "Todos estos operadores generan expresiones booleanas, es decir, expresiones cuyo resultado es True o False\n",
    "\n",
    "\n",
    "### Tablas de verdad\n",
    "\n",
    "Dadas dos variables lógicas, $A$ y $B$, , podemos definir los operadores básicos mediante tablas de verdad, donde el valor verdadero se representa con la letra $V$ o bien con un $1$, mientras que el valor falso se representa mediante la letra $F$ o bien con un $0$.\n",
    "\n",
    "La tabla de verdad para la variable $A$ sería\n",
    "\n",
    "| $A$ |\n",
    "| --- |\n",
    "| $V$ |\n",
    "| $F$ |\n",
    "\n",
    "La tabla de verdad para la variable $B$ sería\n",
    "\n",
    "| $B$ |\n",
    "| --- |\n",
    "| $V$ |\n",
    "| $F$ |\n",
    "\n",
    "\n",
    "#### Negación\n",
    "\n",
    "El operador negación aplicado a una variable se representa con $\\neg$ y devuelve el valor contrario.\n",
    "\n",
    "| $A$ | $\\neg A$ |\n",
    "| :---: | :---: |\n",
    "| $V$ | $F$ |\n",
    "| $F$ | $V$ |\n",
    "\n",
    "#### Conjunción (AND)\n",
    "\n",
    "La conjunción entre dos variables se representa con $\\wedge$ y devuelve verdadero únicamente cuando ambas variables valen verdadero.\n",
    "\n",
    "| $A$ | $B$ | $A\\wedge B$ |\n",
    "| :---: | :---: | :---: |\n",
    "| $V$ | $V$ | $V$ |\n",
    "| $V$ | $F$ | $F$ |\n",
    "| $F$ | $V$ | $F$ |\n",
    "| $F$ | $F$ | $F$ |\n",
    "\n",
    "#### Disyunción (OR)\n",
    "\n",
    "La disyunción entre dos variables se representa con $\\vee$ y devuelve verdadero cuando almenos una de las variables lógicas vale verdadero.\n",
    "\n",
    "| $A$ | $B$ | $A\\vee B$ |\n",
    "| :---: | :---: | :---: |\n",
    "| $V$ | $V$ | $V$ |\n",
    "| $V$ | $F$ | $V$ |\n",
    "| $F$ | $V$ | $V$ |\n",
    "| $F$ | $F$ | $F$ |\n",
    "\n",
    "\n",
    "\n"
   ]
  },
  {
   "cell_type": "code",
   "execution_count": null,
   "id": "22ca63ee",
   "metadata": {},
   "outputs": [
    {
     "data": {
      "text/plain": [
       "bool"
      ]
     },
     "execution_count": 32,
     "metadata": {},
     "output_type": "execute_result"
    }
   ],
   "source": [
    "#ejemplos\n",
    "edad=18\n",
    "is_adult = edad>=18\n",
    "type(is_adult)"
   ]
  },
  {
   "cell_type": "code",
   "execution_count": null,
   "id": "c6827e71",
   "metadata": {},
   "outputs": [
    {
     "name": "stdout",
     "output_type": "stream",
     "text": [
      "Dime tu nombre:Iván\n",
      "True\n"
     ]
    }
   ],
   "source": [
    "tu_nombre=input(\"Dime tu nombre:\")\n",
    "es_ivan=tu_nombre==\"Iván\"\n",
    "print(es_ivan)"
   ]
  },
  {
   "cell_type": "code",
   "execution_count": null,
   "id": "45bf35a3",
   "metadata": {},
   "outputs": [
    {
     "data": {
      "text/plain": [
       "True"
      ]
     },
     "execution_count": 22,
     "metadata": {},
     "output_type": "execute_result"
    }
   ],
   "source": [
    "# ejemplo: expresión que me dice si un año es bisiesto o no\n",
    "\n",
    "#todos los años múltiplos de 4, excepto aquellos que siendo múltiplos de 100, no lo son de 400.\n",
    "# por ejemplo: 2004 es bisiesto\n",
    "#              2100 no es bisiesto\n",
    "#              2400 es bisiesto (múltiplo de 100, y de 400)\n",
    "año=2400\n",
    "bisiesto=(año%4==0) and (año % 100 != 0 or año % 400 == 0)\n",
    "bisiesto"
   ]
  },
  {
   "cell_type": "code",
   "execution_count": null,
   "id": "82a9597b",
   "metadata": {},
   "outputs": [
    {
     "data": {
      "text/plain": [
       "True"
      ]
     },
     "execution_count": 31,
     "metadata": {},
     "output_type": "execute_result"
    }
   ],
   "source": [
    "#ejemplo 2: expresión que me diga si una contraseña cumple con los siguientes requisitos:\n",
    "# Tiene al menos 8 caracteres\n",
    "# Tiene al menos una mayúscula\n",
    "# Tiene al menos una minúscula\n",
    "# Tiene al menos un caracter especial (espacio en blanco, , ; ? etc)\n",
    "#usar funciones len, islower,isupper e isalnum\n",
    "\n",
    "password=\"Ab9sdss?kf\"\n",
    "cumple=len(password)>8 and (not password.islower() and not password.isupper()) and not password.isalnum()\n",
    "cumple\n"
   ]
  },
  {
   "cell_type": "code",
   "execution_count": null,
   "id": "0c4a1a76",
   "metadata": {},
   "outputs": [
    {
     "name": "stdout",
     "output_type": "stream",
     "text": [
      "f2\n"
     ]
    }
   ],
   "source": [
    "# evaluación perezosa\n",
    "\n",
    "def f1():\n",
    "    print(\"f1\")\n",
    "    return True;\n",
    "\n",
    "def f2():\n",
    "    print(\"f2\")\n",
    "    return False;\n",
    "\n",
    "\n",
    "resultado=f2() and f1()"
   ]
  },
  {
   "cell_type": "code",
   "execution_count": null,
   "id": "a7d814e4",
   "metadata": {},
   "outputs": [
    {
     "data": {
      "text/plain": [
       "True"
      ]
     },
     "execution_count": 15,
     "metadata": {},
     "output_type": "execute_result"
    }
   ],
   "source": [
    "# cuidado con las comparaciones entre floats, la precisión puede jugar malas pasadas\n",
    "4.000000000000000001==4.000000"
   ]
  },
  {
   "cell_type": "code",
   "execution_count": null,
   "id": "81d68642",
   "metadata": {},
   "outputs": [
    {
     "data": {
      "text/plain": [
       "True"
      ]
     },
     "execution_count": 34,
     "metadata": {},
     "output_type": "execute_result"
    }
   ],
   "source": [
    "# OJO al comparar con distintos tipos de datos\n",
    "2 == 2.0"
   ]
  },
  {
   "cell_type": "code",
   "execution_count": null,
   "id": "e4c75f40",
   "metadata": {},
   "outputs": [
    {
     "data": {
      "text/plain": [
       "False"
      ]
     },
     "execution_count": 35,
     "metadata": {},
     "output_type": "execute_result"
    }
   ],
   "source": [
    "# con cadenas y numéricos la comparación resulta en falso\n",
    "\"2\" == 2"
   ]
  },
  {
   "cell_type": "code",
   "execution_count": null,
   "id": "65f3341d",
   "metadata": {},
   "outputs": [
    {
     "data": {
      "text/plain": [
       "True"
      ]
     },
     "execution_count": 36,
     "metadata": {},
     "output_type": "execute_result"
    }
   ],
   "source": [
    "int(\"2\")==2"
   ]
  },
  {
   "cell_type": "markdown",
   "id": "1eae73e5",
   "metadata": {},
   "source": [
    "## Operadores de decisión\n",
    "\n",
    "### `if`\n",
    "\n",
    "Cuando queremos comprobar si se cumple alguna condición, utilizamos el operador de decisión `if`. La sintaxis que debemos seguir es la siguiente:\n",
    "\n",
    "```python\n",
    "#condicional simple\n",
    "if condicion:\n",
    "    bloque_condicion_cierta\n",
    "   ```\n",
    "\n",
    "**¡Cuidado!** La sintaxis de los dos puntos después de la condición y la indentación (equivalente a una tabulación, un total de 4 espacios en blanco) que precede a la consecuencia es muy importante. De hecho, si se omite alguna de las dos cosas o bien nos pasamos de indentación, nos saltará error.\n",
    "\n",
    "- Si queréis hacer una tabulación, debéis pulsar el tabulador una vez. \n",
    "- Podéis hacer tabulaciones en bloque seleccionando las líneas de código que queráis indentar y, a continuación, pulsando el tabulador.\n",
    "- Podéis deshacer tabulaciones pulsando Shift + Tab\n",
    "- Podéis deshacer tabulaciones en bloque seleccionando las líneas de código que queráis desindentar y, a continuación, pulsando el Shift + Tab.\n",
    "\n",
    "\n"
   ]
  },
  {
   "cell_type": "code",
   "execution_count": null,
   "id": "816a9465",
   "metadata": {},
   "outputs": [
    {
     "name": "stdout",
     "output_type": "stream",
     "text": [
      "Introduce tu edad20\n",
      "puedes entrar!\n"
     ]
    }
   ],
   "source": [
    "#ejemplo: puedes acceder a la red social si tiens más de 18 años y menos de 40\n",
    "edad=int(input(\"Introduce tu edad\"))\n",
    "if edad >= 18 and edad < 40:\n",
    "    print(\"puedes entrar!\")"
   ]
  },
  {
   "cell_type": "markdown",
   "id": "6bed75fa",
   "metadata": {},
   "source": [
    "### `else`\n",
    "\n",
    "Ahora, nos podríamos preguntar qué le podríamos decir al usuario en el caso en que no satisfaga la condición. Ahí es donde entra en juego el operador de decisión `else`. Esta vez, la sintaxis a seguir es la siguiente:\n",
    "```python\n",
    "#condicional doble\n",
    "if condición:\n",
    "    bloque_condicion_cierta\n",
    "else:\n",
    "    bloque_condicion_falsa\n",
    "```"
   ]
  },
  {
   "cell_type": "code",
   "execution_count": null,
   "id": "b98de134",
   "metadata": {},
   "outputs": [
    {
     "name": "stdout",
     "output_type": "stream",
     "text": [
      "Introduce tu edad21\n",
      "puedes entrar!\n"
     ]
    }
   ],
   "source": [
    "#ejemplo: puedes acceder a la red social si tiens más de 18 años y menos de 40\n",
    "edad=int(input(\"Introduce tu edad:\"))\n",
    "if edad >= 18 and edad < 40:\n",
    "    print(\"puedes entrar!\")\n",
    "else:\n",
    "    print(\"no puedes entrar!\")"
   ]
  },
  {
   "cell_type": "markdown",
   "id": "e12c22c6",
   "metadata": {},
   "source": [
    "### Anidar condicionales\n",
    "\n",
    "Se pueden anidar condicionales introduciendo sentencias if-else dentro de uno de los bloques\n"
   ]
  },
  {
   "cell_type": "code",
   "execution_count": null,
   "id": "4163b434",
   "metadata": {},
   "outputs": [],
   "source": [
    "#ejemplo: acceso\n",
    "edad=int(input(\"Introduce tu edad:\"))\n",
    "password=input(\"Introduce tu password:\")\n",
    "if edad >= 18 and edad < 40:\n",
    "    if len(password)>8 and (not password.islower() and not password.isupper()) and not password.isalnum():\n",
    "        print(\"Puedes entrar y tu contraseña es buena\")\n",
    "    else:\n",
    "        print(\"puedes entrar, pero elige otra contraseña\")\n",
    "else:\n",
    "    print(\"no puedes entrar!\")"
   ]
  },
  {
   "cell_type": "markdown",
   "id": "a280a775",
   "metadata": {},
   "source": [
    "### `elif`\n",
    "\n",
    "Ahora, en vez de comprobar si se cumple o no una condición, nos podríamos preguntar cómo haríamos para comprobar más de una condición. Podríamos hacerlo a lo bruto anidando operadores `if`, esto es, metiendo un `if` dentro de otro; o bien, podríamos hacerlo utilizando el operador de decisión `elif`.\n",
    "\n",
    "El operador `elif` funciona del siguiente modo: se empieza con un operador `if`; si la condición de este no se cumple, pasamos a la siguiente condición posible precedida de un `elif`; si esta tampoco se cumple, pasamos al siguiente `elif`; seguimos así hasta que o bien se satisface alguna condición y realizamos su consecuencia, o hasta llegar al `else`, que implica que no se ha satisfecho ninguna de las condiciones anteriores.\n",
    "\n",
    "La sintaxis del operador de decisión `elif` es la siguiente:\n",
    "```python\n",
    "if condición_1:\n",
    "    bloque_condicion_1_cierta\n",
    "elif condición_2:\n",
    "    bloque_condicion_2_cierta\n",
    "elif condición_3:\n",
    "    bloque_condicion_3_cierta\n",
    "...\n",
    "...\n",
    "\n",
    "else:\n",
    "    bloque_ninguna_condicion\n",
    "```"
   ]
  },
  {
   "cell_type": "code",
   "execution_count": null,
   "id": "f5d3eb91",
   "metadata": {},
   "outputs": [
    {
     "name": "stdout",
     "output_type": "stream",
     "text": [
      "B\n"
     ]
    }
   ],
   "source": [
    "#ejemplo: obtener calificación en formato americano\n",
    "nota=7.5\n",
    "if nota<5:\n",
    "    print(\"D\")\n",
    "elif nota <7:\n",
    "    print(\"C\")\n",
    "elif nota <9:\n",
    "    print(\"B\")\n",
    "else:\n",
    "    print(\"A\")\n"
   ]
  },
  {
   "cell_type": "markdown",
   "id": "4879cef5",
   "metadata": {},
   "source": [
    "### Operador ternario\n",
    "\n",
    "Si queremos hacer un simple `if` / `else` en una sola línea de código, podemos utilizar el operador ternario, que tiene la siguiente estructura:\n",
    "\n",
    "```python\n",
    "bloque_consecuencia_cierto if condición else bloque_consecuencia_falso\n",
    "```"
   ]
  },
  {
   "cell_type": "code",
   "execution_count": null,
   "id": "15dca4ec",
   "metadata": {},
   "outputs": [
    {
     "name": "stdout",
     "output_type": "stream",
     "text": [
      "Eres mayor de edad en España\n"
     ]
    }
   ],
   "source": [
    "age = 20\n",
    "texto_mayor = \"Eres mayor de edad en España\"\n",
    "texto_menor = \"Eres menor de edad en España\"\n",
    "\n",
    "print(texto_mayor) if age >= 18 else print(texto_menor)"
   ]
  },
  {
   "cell_type": "code",
   "execution_count": null,
   "id": "955c355f",
   "metadata": {},
   "outputs": [],
   "source": []
  }
 ],
 "metadata": {
  "kernelspec": {
   "display_name": ".venv",
   "language": "python",
   "name": "python3"
  },
  "language_info": {
   "codemirror_mode": {
    "name": "ipython",
    "version": 3
   },
   "file_extension": ".py",
   "mimetype": "text/x-python",
   "name": "python",
   "nbconvert_exporter": "python",
   "pygments_lexer": "ipython3",
   "version": "3.13.7"
  }
 },
 "nbformat": 4,
 "nbformat_minor": 5
}
