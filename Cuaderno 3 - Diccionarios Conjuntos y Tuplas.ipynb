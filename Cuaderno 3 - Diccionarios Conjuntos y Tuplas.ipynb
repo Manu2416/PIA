{
 "cells": [
  {
   "cell_type": "markdown",
   "id": "06a0aaa8",
   "metadata": {},
   "source": [
    "# Diccionarios\n",
    "\n",
    "Son estructuras de datos: \n",
    "- heterogéneas: significa que pueden estar compuestas por más de un tipo de dato\n",
    "- mutables: Se puede modificar cada uno de sus elementos, también añadir, borrar, actualizar...\n",
    "- SON ORDENADOS: (a partir de la versión 3.7 de python): Conservan el orden de inserción en memoria.\n",
    "\n",
    "Un diccionario es una lista de parejas **clave: valor**, donde la clave representa un campo único (no se puede repetir) y el valor es el contenido asociado a esa clave\n",
    "\n"
   ]
  },
  {
   "cell_type": "code",
   "execution_count": 3,
   "id": "8f253473",
   "metadata": {},
   "outputs": [
    {
     "data": {
      "text/plain": [
       "(dict, {'José': 24, 'María': 32, 'Pedro': 25})"
      ]
     },
     "execution_count": 3,
     "metadata": {},
     "output_type": "execute_result"
    }
   ],
   "source": [
    "# ejemplos de diccionarios\n",
    "diccionario1= {\"José\":24, \"María\":32, \"Pedro\":25}\n",
    "type(diccionario1), diccionario1"
   ]
  },
  {
   "cell_type": "markdown",
   "id": "a5d1b70f",
   "metadata": {},
   "source": [
    "#### La clave es única dentro del diccionario"
   ]
  },
  {
   "cell_type": "code",
   "execution_count": 4,
   "id": "c5327e01",
   "metadata": {},
   "outputs": [
    {
     "data": {
      "text/plain": [
       "{'José': 32, 'María': 32, 'Pedro': 25}"
      ]
     },
     "execution_count": 4,
     "metadata": {},
     "output_type": "execute_result"
    }
   ],
   "source": [
    "# OJO: La clave es única dentro del diccionario\n",
    "diccionario1= {\"José\":24,\"María\":32,\"Pedro\":25, \"José\": 32}\n",
    "diccionario1"
   ]
  },
  {
   "cell_type": "markdown",
   "id": "00e2e88d",
   "metadata": {},
   "source": [
    "#### Los valores de los diccionarios pueden de ser cualquier tipo"
   ]
  },
  {
   "cell_type": "code",
   "execution_count": 6,
   "id": "e1413801",
   "metadata": {},
   "outputs": [
    {
     "data": {
      "text/plain": [
       "{'José': [5, 7, 8, 9], 'Pedro': [2, 4, 5, 9, 10], 'María': [2, 10, 9, 7, 4]}"
      ]
     },
     "execution_count": 6,
     "metadata": {},
     "output_type": "execute_result"
    }
   ],
   "source": [
    "# Los valores de los diccionarios pueden de ser cualquier tipo\n",
    "diccionario2={\"José\":[5,7,8,9],\"Pedro\":[2,4,5,9,10],\"María\":[2,10,9,7,4]}\n",
    "diccionario2"
   ]
  },
  {
   "cell_type": "markdown",
   "id": "9be8dbc5",
   "metadata": {},
   "source": [
    "#### Los diccionarios pueden tener valores que a su vez sean diccionarios"
   ]
  },
  {
   "cell_type": "code",
   "execution_count": null,
   "id": "e79c9ae8",
   "metadata": {},
   "outputs": [
    {
     "name": "stdout",
     "output_type": "stream",
     "text": [
      "cada clave  alumno1 siu\n",
      "cada clave  alumno2 siu\n",
      "cada clave  alumno3 siu\n",
      "cada clave  alumno4 siu\n",
      "cada clave  alumno4 y su [] valores\n",
      "cada clave  alumno4 y su [] valores\n",
      "cada clave  alumno4 y su [] valores\n",
      "cada clave  alumno4 y su [] valores\n",
      "sus {'nombre': 'Juan', 'apellidos': ['Pérez', 'López'], 'notas': [5, 3, 2], 'familiares': {}} valores\n",
      "sus {'nombre': 'Paco', 'apellidos': 'Jonhson', 'expulsiones': 3} valores\n",
      "sus {'nombre': 'María', 'apellidos': ['Sanchez', 'López'], 'matriculasH': 5} valores\n",
      "sus [] valores\n"
     ]
    }
   ],
   "source": [
    "# los diccionarios pueden tener valores que a su vez sean diccionarios\n",
    "diccionario3={\"alumno1\":{\"nombre\":\"Juan\",\"apellidos\":[\"Pérez\",\"López\"],\"notas\":[5,3,2],\"familiares\":{}},\n",
    "              \"alumno2\":{\"nombre\":\"Paco\",\"apellidos\":\"Jonhson\",\"expulsiones\":3},\n",
    "              \"alumno3\":{\"nombre\":\"María\",\"apellidos\":[\"Sanchez\",\"López\"],\"matriculasH\":5},\n",
    "              \"alumno4\":[]}\n",
    "\n",
    "diccionario3\n",
    "\n",
    "for i in diccionario3.keys():\n",
    "    print(f\"cada clave  {i} siu\")\n",
    "\n",
    "for clave,valor in diccionario3.items():\n",
    "    print(f\"cada clave  {clave} y su {valor} valores\")\n",
    "\n",
    "for valor in diccionario3.values():\n",
    "    print(f\"sus {valor} valores\")"
   ]
  },
  {
   "cell_type": "markdown",
   "id": "58c5940f",
   "metadata": {},
   "source": [
    "#### Son mutables, con el operador [], con la clave, realizo un acceso al elemento."
   ]
  },
  {
   "cell_type": "code",
   "execution_count": 11,
   "id": "bcfc7d2c",
   "metadata": {},
   "outputs": [
    {
     "data": {
      "text/plain": [
       "{'José': 32, 'María': 33, 'Pedro': 25}"
      ]
     },
     "execution_count": 11,
     "metadata": {},
     "output_type": "execute_result"
    }
   ],
   "source": [
    "# Son mutables, con el operador [], con la clave, realizo un acceso al elemento.\n",
    "diccionario1= {\"José\":24,\"María\":32,\"Pedro\":25, \"José\": 32}\n",
    "diccionario1[\"María\"]+=1\n",
    "diccionario1"
   ]
  },
  {
   "cell_type": "markdown",
   "id": "6d2fc4ef",
   "metadata": {},
   "source": [
    "#### El sistema de indexación permite de forma flexible acceder a cualquier elemento"
   ]
  },
  {
   "cell_type": "code",
   "execution_count": 14,
   "id": "8c66b67c",
   "metadata": {},
   "outputs": [
    {
     "data": {
      "text/plain": [
       "{'alumno1': {'nombre': 'Juan',\n",
       "  'apellidos': ['Martínez', 'López'],\n",
       "  'notas': [5, 3, 2],\n",
       "  'familiares': {}},\n",
       " 'alumno2': {'nombre': 'Paco', 'apellidos': 'Jonhson', 'expulsiones': 3},\n",
       " 'alumno3': {'nombre': 'María',\n",
       "  'apellidos': ['Sanchez', 'López'],\n",
       "  'matriculasH': 5},\n",
       " 'alumno4': []}"
      ]
     },
     "execution_count": 14,
     "metadata": {},
     "output_type": "execute_result"
    }
   ],
   "source": [
    "# El sistema de indexación permite de forma flexible acceder a cualquier elemento de la E.D.\n",
    "diccionario3[\"alumno1\"][\"apellidos\"][0]=\"Martínez\"\n",
    "diccionario3\n"
   ]
  },
  {
   "cell_type": "markdown",
   "id": "966aba64",
   "metadata": {},
   "source": [
    "## Métodos interesantes de los diccionarios\n",
    "\n",
    "- .keys() Devuelve una lista de claves del diccionario\n",
    "- .values() Devuelve una lista de valores del diccionario\n",
    "- .items() Devuelve una tupla con las claves y los valores del diccionario\n"
   ]
  },
  {
   "cell_type": "code",
   "execution_count": 15,
   "id": "9a761e74",
   "metadata": {},
   "outputs": [
    {
     "data": {
      "text/plain": [
       "dict_keys(['alumno1', 'alumno2', 'alumno3', 'alumno4'])"
      ]
     },
     "execution_count": 15,
     "metadata": {},
     "output_type": "execute_result"
    }
   ],
   "source": [
    "# ejemplo de uso de keys\n",
    "diccionario3.keys()"
   ]
  },
  {
   "cell_type": "code",
   "execution_count": 18,
   "id": "d45750b6",
   "metadata": {},
   "outputs": [
    {
     "data": {
      "text/plain": [
       "(dict_keys(['José', 'María', 'Pedro']), dict_values([32, 33, 25]))"
      ]
     },
     "execution_count": 18,
     "metadata": {},
     "output_type": "execute_result"
    }
   ],
   "source": [
    "# ejemplo de uso de values\n",
    "diccionario1.keys(), diccionario1.values()"
   ]
  },
  {
   "cell_type": "markdown",
   "id": "fdfe606e",
   "metadata": {},
   "source": [
    "#### Podemos usarlas para recorrer el diccionario"
   ]
  },
  {
   "cell_type": "code",
   "execution_count": 20,
   "id": "903c61f7",
   "metadata": {},
   "outputs": [
    {
     "name": "stdout",
     "output_type": "stream",
     "text": [
      "José 32\n",
      "María 33\n",
      "Pedro 25\n"
     ]
    }
   ],
   "source": [
    "# recorrido de un diccionario\n",
    "for clave in diccionario1.keys():\n",
    "    print(clave, diccionario1[clave])"
   ]
  },
  {
   "cell_type": "code",
   "execution_count": 21,
   "id": "4d5496c8",
   "metadata": {},
   "outputs": [
    {
     "name": "stdout",
     "output_type": "stream",
     "text": [
      "32\n",
      "33\n",
      "25\n"
     ]
    }
   ],
   "source": [
    "for valor in diccionario1.values():\n",
    "    print(valor)"
   ]
  },
  {
   "cell_type": "markdown",
   "id": "72c97886",
   "metadata": {},
   "source": [
    "#### Ejercicio: Dado un valor, sacar cuál es su clave dentro de un diccionario\n",
    "\n",
    "\n",
    "\n",
    "\n",
    "\n",
    "\n",
    "\n",
    "\n",
    "\n",
    "\n",
    "\n",
    "\n"
   ]
  },
  {
   "cell_type": "code",
   "execution_count": 28,
   "id": "ea31fd32",
   "metadata": {},
   "outputs": [
    {
     "name": "stdout",
     "output_type": "stream",
     "text": [
      "El valor 32 está en la clave José\n"
     ]
    }
   ],
   "source": [
    "# Ejercicio: Dado un valor, sacar cuál es su clave dentro de un diccionario\n",
    "\n",
    "valor_buscado=32\n",
    "for clave in diccionario1.keys():\n",
    "    if valor_buscado==diccionario1[clave]:\n",
    "        print(\"El valor\",valor_buscado,\"está en la clave\",clave)\n",
    "\n",
    "\n",
    "\n"
   ]
  },
  {
   "cell_type": "markdown",
   "id": "3e93f296",
   "metadata": {},
   "source": [
    "#### el método items, devuelve una lista de tuplas con la clave y el valor"
   ]
  },
  {
   "cell_type": "code",
   "execution_count": 29,
   "id": "0bf88d12",
   "metadata": {},
   "outputs": [
    {
     "data": {
      "text/plain": [
       "dict_items([('José', 32), ('María', 33), ('Pedro', 25)])"
      ]
     },
     "execution_count": 29,
     "metadata": {},
     "output_type": "execute_result"
    }
   ],
   "source": [
    "# el método items, devuelve una lista de tuplas con la clave y el valor\n",
    "diccionario1.items()"
   ]
  },
  {
   "cell_type": "markdown",
   "id": "5d40f16c",
   "metadata": {},
   "source": [
    "#### Podemos recorrer con doble variable en un bucle for"
   ]
  },
  {
   "cell_type": "code",
   "execution_count": 30,
   "id": "8652c9a4",
   "metadata": {},
   "outputs": [
    {
     "name": "stdout",
     "output_type": "stream",
     "text": [
      "la clave José tiene valor 32\n",
      "la clave María tiene valor 33\n",
      "la clave Pedro tiene valor 25\n"
     ]
    }
   ],
   "source": [
    "# recorrer pareja clave,valor de todos los elementos del diccionario\n",
    "for clave,valor in diccionario1.items():\n",
    "    print(\"la clave\",clave,\"tiene valor\",valor)"
   ]
  },
  {
   "cell_type": "code",
   "execution_count": 32,
   "id": "baf6f6cf",
   "metadata": {},
   "outputs": [
    {
     "data": {
      "text/plain": [
       "{}"
      ]
     },
     "execution_count": 32,
     "metadata": {},
     "output_type": "execute_result"
    }
   ],
   "source": [
    "# Podemos crear diccionarios vacíos\n",
    "diccionario4={}\n",
    "diccionario4"
   ]
  },
  {
   "cell_type": "code",
   "execution_count": 34,
   "id": "7cb9e8a6",
   "metadata": {},
   "outputs": [
    {
     "name": "stdout",
     "output_type": "stream",
     "text": [
      "introduce tu nombrepedro\n",
      "introduce tus apellidosperez sanchez\n",
      "introduce tu edad42\n"
     ]
    }
   ],
   "source": [
    "diccionario4[\"nombre\"]=input(\"introduce tu nombre:\")\n",
    "diccionario4[\"apellidos\"]=input(\"introduce tus apellidos:\")\n",
    "diccionario4[\"edad\"]=int(input(\"introduce tu edad:\"))"
   ]
  },
  {
   "cell_type": "code",
   "execution_count": 36,
   "id": "b0cd8aa9",
   "metadata": {},
   "outputs": [
    {
     "data": {
      "text/plain": [
       "{'nombre': 'pedro', 'apellidos': 'perez sanchez', 'edad': 42}"
      ]
     },
     "execution_count": 36,
     "metadata": {},
     "output_type": "execute_result"
    }
   ],
   "source": [
    "diccionario4"
   ]
  },
  {
   "cell_type": "code",
   "execution_count": 37,
   "id": "94a45556",
   "metadata": {},
   "outputs": [
    {
     "data": {
      "text/plain": [
       "{1: 'pedro', 2: 'Mario', 'aaaaaa': 'Juan'}"
      ]
     },
     "execution_count": 37,
     "metadata": {},
     "output_type": "execute_result"
    }
   ],
   "source": [
    "# los diccionario pueden tener las claves numéricas o alfanuméricas\n",
    "diccionario5={1:\"pedro\",2:\"Mario\",\"aaaaaa\":\"Juan\"}\n",
    "diccionario5"
   ]
  },
  {
   "cell_type": "markdown",
   "id": "f81c04ab",
   "metadata": {},
   "source": [
    "## Diccionarios y listas\n",
    "\n",
    "Ya hemos visto que los diccionarios pueden contener listas, pero las listas, también pueden contener diccionarios\n"
   ]
  },
  {
   "cell_type": "code",
   "execution_count": 40,
   "id": "05966291",
   "metadata": {},
   "outputs": [
    {
     "data": {
      "text/plain": [
       "[{'nombre': 'Iván',\n",
       "  'apellidos': ['López', 'Montalbán'],\n",
       "  'usuario': 'profesor',\n",
       "  'lista_alumnos': ['Andrés', 'Javier', 'Jesús', '...']},\n",
       " {'nombre': 'Alicia',\n",
       "  'apellidos': ['Ramos', 'Martin'],\n",
       "  'usuario': 'administrador'}]"
      ]
     },
     "execution_count": 40,
     "metadata": {},
     "output_type": "execute_result"
    }
   ],
   "source": [
    "# diccionario1\n",
    "diccionario1={\"nombre\":\"Iván\",\"apellidos\":[\"López\",\"Montalbán\"],\"usuario\":\"profesor\",\n",
    "              \"lista_alumnos\":[\"Andrés\",\"Javier\",\"Jesús\",\"...\"]}\n",
    "diccionario2={\"nombre\":\"Alicia\",\"apellidos\":[\"Ramos\",\"Martin\"],\"usuario\":\"administrador\"}\n",
    "\n",
    "lista=[diccionario1,diccionario2]\n",
    "lista"
   ]
  },
  {
   "cell_type": "markdown",
   "id": "6e425819",
   "metadata": {},
   "source": [
    "## Otros métodos para diccionarios\n",
    "\n",
    "- .clear : Vacia un diccionario. \n",
    "- .copy: Crea un clon de un diccionario\n",
    "- .fromkeys: Permite crear un diccionario a partir de un iterador\n",
    "- .update: Permite actualizar los valores de las claves de un diccionario, a partir de otro"
   ]
  },
  {
   "cell_type": "code",
   "execution_count": 41,
   "id": "58318c66",
   "metadata": {},
   "outputs": [
    {
     "name": "stdout",
     "output_type": "stream",
     "text": [
      "{1: 'pedro', 2: 'Mario', 'aaaaaa': 'Juan'}\n",
      "{}\n"
     ]
    }
   ],
   "source": [
    "# .clear\n",
    "print(diccionario5)\n",
    "diccionario5.clear()\n",
    "print(diccionario5)"
   ]
  },
  {
   "cell_type": "code",
   "execution_count": 44,
   "id": "9360da0d",
   "metadata": {},
   "outputs": [
    {
     "data": {
      "text/plain": [
       "({'nombre': 'Marcos',\n",
       "  'apellidos': ['Ramos', 'Martin'],\n",
       "  'usuario': 'administrador'},\n",
       " {'nombre': 'Marcos',\n",
       "  'apellidos': ['Ramos', 'Martin'],\n",
       "  'usuario': 'administrador'})"
      ]
     },
     "execution_count": 44,
     "metadata": {},
     "output_type": "execute_result"
    }
   ],
   "source": [
    "# copy\n",
    "# Si yo utilizo el operador = para asignar un diccionario a una variable, \n",
    "#en realidad, no creo una copio, creo una referencia\n",
    "diccionarioX=diccionario2\n",
    "diccionario2['nombre']='Marcos'\n",
    "diccionarioX, diccionario2"
   ]
  },
  {
   "cell_type": "code",
   "execution_count": 46,
   "id": "453538de",
   "metadata": {},
   "outputs": [
    {
     "data": {
      "text/plain": [
       "({'nombre': 'Andres',\n",
       "  'apellidos': ['Ramos', 'Martin'],\n",
       "  'usuario': 'administrador'},\n",
       " {'nombre': 'Andres',\n",
       "  'apellidos': ['Ramos', 'Martin'],\n",
       "  'usuario': 'administrador'})"
      ]
     },
     "execution_count": 46,
     "metadata": {},
     "output_type": "execute_result"
    }
   ],
   "source": [
    "diccionarioX['nombre']='Andres'\n",
    "diccionarioX, diccionario2"
   ]
  },
  {
   "cell_type": "code",
   "execution_count": 48,
   "id": "974f283e",
   "metadata": {},
   "outputs": [
    {
     "data": {
      "text/plain": [
       "({'nombre': 'Andres',\n",
       "  'apellidos': ['Ramos', 'Martin'],\n",
       "  'usuario': 'administrador'},\n",
       " {'nombre': 'Diego',\n",
       "  'apellidos': ['Ramos', 'Martin'],\n",
       "  'usuario': 'administrador'})"
      ]
     },
     "execution_count": 48,
     "metadata": {},
     "output_type": "execute_result"
    }
   ],
   "source": [
    "diccionario3=diccionario2.copy()\n",
    "diccionario3[\"nombre\"]=\"Diego\"\n",
    "diccionario2,diccionario3"
   ]
  },
  {
   "cell_type": "code",
   "execution_count": 49,
   "id": "050e346f",
   "metadata": {},
   "outputs": [
    {
     "data": {
      "text/plain": [
       "{'alumno1': 10, 'alumno2': 10, 'alumno3': 10}"
      ]
     },
     "execution_count": 49,
     "metadata": {},
     "output_type": "execute_result"
    }
   ],
   "source": [
    "# ejemplo de .fromkeys\n",
    "diccionario6=dict.fromkeys([\"alumno1\",\"alumno2\",\"alumno3\"],10)\n",
    "diccionario6"
   ]
  },
  {
   "cell_type": "code",
   "execution_count": 51,
   "id": "5a4705b4",
   "metadata": {},
   "outputs": [
    {
     "data": {
      "text/plain": [
       "{'alumno1': 8, 'alumno2': 6.5, 'alumno3': 10, 'alumno4': 10, 'alumno5': 10}"
      ]
     },
     "execution_count": 51,
     "metadata": {},
     "output_type": "execute_result"
    }
   ],
   "source": [
    "# ejemplo de update\n",
    "diccionario7=dict.fromkeys([\"alumno1\",\"alumno2\",\"alumno3\",\"alumno4\",\"alumno5\"],10)\n",
    "diccionario7[\"alumno1\"]=8\n",
    "diccionario7[\"alumno2\"]=6.5\n"
   ]
  },
  {
   "cell_type": "code",
   "execution_count": 52,
   "id": "85632c52",
   "metadata": {},
   "outputs": [
    {
     "data": {
      "text/plain": [
       "{'alumno1': 8, 'alumno2': 6.5, 'alumno3': 10, 'alumno4': 10, 'alumno5': 10}"
      ]
     },
     "execution_count": 52,
     "metadata": {},
     "output_type": "execute_result"
    }
   ],
   "source": [
    "diccionario6.update(diccionario7)\n",
    "diccionario6"
   ]
  },
  {
   "cell_type": "code",
   "execution_count": 53,
   "id": "56e7bd19",
   "metadata": {},
   "outputs": [
    {
     "data": {
      "text/plain": [
       "{'alumno1': 7, 'alumno2': 10, 'alumno3': 4.5}"
      ]
     },
     "execution_count": 53,
     "metadata": {},
     "output_type": "execute_result"
    }
   ],
   "source": [
    "# otras formas de construcción de diccionarios:\n",
    "# a partir de una lista\n",
    "diccionario8=dict([[\"alumno1\",7],[\"alumno2\",10],[\"alumno3\",4.5]])\n",
    "diccionario8"
   ]
  },
  {
   "cell_type": "code",
   "execution_count": 54,
   "id": "aaf5dc5d",
   "metadata": {},
   "outputs": [
    {
     "data": {
      "text/plain": [
       "{'alumno1': 7, 'alumno2': 10, 'alumno3': 4.5}"
      ]
     },
     "execution_count": 54,
     "metadata": {},
     "output_type": "execute_result"
    }
   ],
   "source": [
    "# a partir de una lista de tuplas\n",
    "diccionario8=dict([(\"alumno1\",7),(\"alumno2\",10),(\"alumno3\",4.5)])\n",
    "diccionario8"
   ]
  },
  {
   "cell_type": "code",
   "execution_count": 55,
   "id": "ea7a85d0",
   "metadata": {},
   "outputs": [
    {
     "data": {
      "text/plain": [
       "{'x': 1, 'y': 2, 'z': -3}"
      ]
     },
     "execution_count": 55,
     "metadata": {},
     "output_type": "execute_result"
    }
   ],
   "source": [
    "# otro constructor de dict, permite crear entradas a partir de los parámetros del constructor\n",
    "diccionario9= dict(x=1,y=2,z=-3)\n",
    "diccionario9"
   ]
  },
  {
   "cell_type": "code",
   "execution_count": 57,
   "id": "34d3237b",
   "metadata": {},
   "outputs": [
    {
     "data": {
      "text/plain": [
       "{'x': 10, 'y': 9}"
      ]
     },
     "execution_count": 57,
     "metadata": {},
     "output_type": "execute_result"
    }
   ],
   "source": [
    "# construir diccionarios a partir de diccionarios\n",
    "diccionario10=dict({\"x\":10,\"y\":9})\n",
    "diccionario10"
   ]
  },
  {
   "cell_type": "code",
   "execution_count": 58,
   "id": "42864943",
   "metadata": {},
   "outputs": [
    {
     "data": {
      "text/plain": [
       "{'x': 10, 'y': 9, 'z': -3, 't': 4}"
      ]
     },
     "execution_count": 58,
     "metadata": {},
     "output_type": "execute_result"
    }
   ],
   "source": [
    "#combinada\n",
    "diccionario11=dict({\"x\":10,\"y\":9},z=-3,t=4)\n",
    "diccionario11"
   ]
  },
  {
   "cell_type": "markdown",
   "id": "f5b051bd",
   "metadata": {},
   "source": [
    "# Objetos JSON\n",
    "\n",
    "JSON = Javascript object Notation \n",
    "JSON Object = una lista de pares clave, valor\n",
    "JSON array = listas de valores\n",
    "\n",
    "Para utilizar JSON con python hay que importar la librería json\n",
    "\n",
    "- dumps -> Vuelca el contenido de un diccionario a un objeto json\n",
    "- loads -> Crea un objeto diccionario a partir de un objeto json\n"
   ]
  },
  {
   "cell_type": "code",
   "execution_count": 61,
   "id": "327e54c4",
   "metadata": {},
   "outputs": [
    {
     "data": {
      "text/plain": [
       "(str, '{\"x\": 10, \"y\": 9, \"z\": -3, \"t\": 4}', dict)"
      ]
     },
     "execution_count": 61,
     "metadata": {},
     "output_type": "execute_result"
    }
   ],
   "source": [
    "# de diccionario a JSON\n",
    "import json\n",
    "diccionario11=dict({\"x\":10,\"y\":9},z=-3,t=4)\n",
    "json1=json.dumps(diccionario11)\n",
    "type(json1),json1,type(diccionario11)\n"
   ]
  },
  {
   "cell_type": "code",
   "execution_count": 63,
   "id": "f45915ce",
   "metadata": {},
   "outputs": [],
   "source": [
    "# ejemplo, convertir a JSON un objeto diccionario complejo y guardar en un fichero de texto\n",
    "diccionario3={\"alumno1\":{\"nombre\":\"Juan\",\"apellidos\":[\"Pérez\",\"López\"],\"notas\":[5,3,2],\"familiares\":{}},\n",
    "              \"alumno2\":{\"nombre\":\"Paco\",\"apellidos\":\"Jonhson\",\"expulsiones\":3},\n",
    "              \"alumno3\":{\"nombre\":\"María\",\"apellidos\":[\"Sanchez\",\"López\"],\"matriculasH\":5},\n",
    "              \"alumno4\":[]}\n",
    "\n",
    "json2=json.dumps(diccionario3)\n",
    "with open(\"ejemplo.txt\",\"w\") as fichero:\n",
    "    fichero.write(json2)"
   ]
  },
  {
   "cell_type": "code",
   "execution_count": 67,
   "id": "3df13916",
   "metadata": {},
   "outputs": [
    {
     "data": {
      "text/plain": [
       "dict"
      ]
     },
     "execution_count": 67,
     "metadata": {},
     "output_type": "execute_result"
    }
   ],
   "source": [
    "# de fichero a cadena de caracteres -> a objeto diccionario\n",
    "# dos formas: \n",
    "# 1ª fichero -> cadena -> loads\n",
    "# 2ª json.load\n",
    "\n",
    "#1ª forma\n",
    "with open(\"ejemplo.txt\",\"r\") as fichero:\n",
    "    cadena=fichero.read()\n",
    "\n",
    "objeto_d=json.loads(cadena)\n",
    "type(objeto_d)\n",
    "    "
   ]
  },
  {
   "cell_type": "code",
   "execution_count": 69,
   "id": "eaca9f87",
   "metadata": {},
   "outputs": [
    {
     "data": {
      "text/plain": [
       "(dict,\n",
       " {'alumno1': {'nombre': 'Juan',\n",
       "   'apellidos': ['Pérez', 'López'],\n",
       "   'notas': [5, 3, 2],\n",
       "   'familiares': {}},\n",
       "  'alumno2': {'nombre': 'Paco', 'apellidos': 'Jonhson', 'expulsiones': 3},\n",
       "  'alumno3': {'nombre': 'María',\n",
       "   'apellidos': ['Sanchez', 'López'],\n",
       "   'matriculasH': 5},\n",
       "  'alumno4': []})"
      ]
     },
     "execution_count": 69,
     "metadata": {},
     "output_type": "execute_result"
    }
   ],
   "source": [
    "with open(\"ejemplo.txt\",\"r\") as fichero:\n",
    "    diccionario11=json.load(fichero)\n",
    "type(diccionario11),diccionario11"
   ]
  },
  {
   "cell_type": "code",
   "execution_count": 70,
   "id": "9457bb17",
   "metadata": {},
   "outputs": [],
   "source": [
    "# el método pop eliminar una entrada del diccionario: \n",
    "# pop (key, [valor_por_defecto]) -> valor\n",
    "\n",
    "valor=diccionario11.pop('alumno1')\n"
   ]
  },
  {
   "cell_type": "code",
   "execution_count": 73,
   "id": "c674c0a9",
   "metadata": {},
   "outputs": [
    {
     "data": {
      "text/plain": [
       "({'alumno2': {'nombre': 'Paco', 'apellidos': 'Jonhson', 'expulsiones': 3},\n",
       "  'alumno3': {'nombre': 'María',\n",
       "   'apellidos': ['Sanchez', 'López'],\n",
       "   'matriculasH': 5},\n",
       "  'alumno4': []},\n",
       " {'nombre': 'Juan',\n",
       "  'apellidos': ['Pérez', 'López'],\n",
       "  'notas': [5, 3, 2],\n",
       "  'familiares': {}})"
      ]
     },
     "execution_count": 73,
     "metadata": {},
     "output_type": "execute_result"
    }
   ],
   "source": [
    "diccionario11, valor"
   ]
  },
  {
   "cell_type": "code",
   "execution_count": 76,
   "id": "604c6439",
   "metadata": {},
   "outputs": [
    {
     "ename": "KeyError",
     "evalue": "'xxxxx'",
     "output_type": "error",
     "traceback": [
      "\u001b[0;31m---------------------------------------------------------------------------\u001b[0m",
      "\u001b[0;31mKeyError\u001b[0m                                  Traceback (most recent call last)",
      "Cell \u001b[0;32mIn[76], line 1\u001b[0m\n\u001b[0;32m----> 1\u001b[0m diccionario11\u001b[38;5;241m.\u001b[39mpop(\u001b[38;5;124m'\u001b[39m\u001b[38;5;124mxxxxx\u001b[39m\u001b[38;5;124m'\u001b[39m)\n",
      "\u001b[0;31mKeyError\u001b[0m: 'xxxxx'"
     ]
    }
   ],
   "source": [
    "#eliminar una clave no existente da error\n",
    "diccionario11.pop('xxxxx')"
   ]
  },
  {
   "cell_type": "code",
   "execution_count": 77,
   "id": "e54350ae",
   "metadata": {},
   "outputs": [
    {
     "data": {
      "text/plain": [
       "10"
      ]
     },
     "execution_count": 77,
     "metadata": {},
     "output_type": "execute_result"
    }
   ],
   "source": [
    "#salvo que indiquemos un valor por defecto\n",
    "diccionario11.pop('xxxxx',10)"
   ]
  },
  {
   "cell_type": "markdown",
   "id": "2eec780c",
   "metadata": {},
   "source": [
    "# Conjuntos \n",
    "\n",
    "Es una estructura de datos con unas características un tanto diferentes:\n",
    "- no mutable: Los elementos del conjunto no se pueden modificar\n",
    "- no están ordenados: la posición de los elementos se puede alterar \n",
    "- heterogéneos: enteros, flotantes, cadenas de caracteres, cualquier elemento de tipo básico\n",
    "- no puede haber elementos \"complejos\"\n",
    "- más eficiente que una lista\n",
    "\n",
    "- Sigue las normas de la teoría de CONJUNTOS:\n",
    "    - No permite duplicados\n",
    "    - Habilita operaciones:\n",
    "        - Union |\n",
    "        - Intersección &\n",
    "        - Diferencia - \n"
   ]
  },
  {
   "cell_type": "markdown",
   "id": "c7ecb07c",
   "metadata": {},
   "source": [
    "### inciso:\n",
    "- listas -> []\n",
    "- diccionarios -> {}\n",
    "- tuplas -> ()\n",
    "- conjuntos -> {}\n",
    " \n",
    " "
   ]
  },
  {
   "cell_type": "markdown",
   "id": "3f58801c",
   "metadata": {},
   "source": [
    "#### No podemos crear un conjunto vacio con las llaves. Se asignará un diccionario.\n",
    "#### Tenemos que usar set()"
   ]
  },
  {
   "cell_type": "code",
   "execution_count": 78,
   "id": "54c3c6e5",
   "metadata": {},
   "outputs": [
    {
     "data": {
      "text/plain": [
       "dict"
      ]
     },
     "execution_count": 78,
     "metadata": {},
     "output_type": "execute_result"
    }
   ],
   "source": [
    "# no puedo crear un conjunto vació con {}\n",
    "conjunto={}\n",
    "type(conjunto)"
   ]
  },
  {
   "cell_type": "code",
   "execution_count": 82,
   "id": "b4c0a31e",
   "metadata": {},
   "outputs": [
    {
     "data": {
      "text/plain": [
       "(set, {1, 2, 4, 5, 6, 7})"
      ]
     },
     "execution_count": 82,
     "metadata": {},
     "output_type": "execute_result"
    }
   ],
   "source": [
    "# para crear un conjunto hay que usar set\n",
    "c1=set([1,2,4,5,6,7,2,4])\n",
    "type(c1),c1"
   ]
  },
  {
   "cell_type": "code",
   "execution_count": 83,
   "id": "8830d385",
   "metadata": {},
   "outputs": [
    {
     "data": {
      "text/plain": [
       "({1, 2, 3, 4, 5, 6, 7}, set)"
      ]
     },
     "execution_count": 83,
     "metadata": {},
     "output_type": "execute_result"
    }
   ],
   "source": [
    "c2=set((1,2,3,4,5,6,6,6,7,7,7,7))\n",
    "c2, type(c2)"
   ]
  },
  {
   "cell_type": "code",
   "execution_count": 84,
   "id": "2e2b0706",
   "metadata": {},
   "outputs": [
    {
     "data": {
      "text/plain": [
       "({1, 2, 3, 4, 5, 6, 7}, set)"
      ]
     },
     "execution_count": 84,
     "metadata": {},
     "output_type": "execute_result"
    }
   ],
   "source": [
    "c3={1,2,3,4,5,6,7,7,7,7,7,7}\n",
    "c3, type(c3)\n"
   ]
  },
  {
   "cell_type": "code",
   "execution_count": 103,
   "id": "b8d59c7e",
   "metadata": {},
   "outputs": [
    {
     "data": {
      "text/plain": [
       "({'aguacate', 'kiwi', 'manzana', 'sandia'},\n",
       " {'kiwi', 'limones', 'naranjas'},\n",
       " {'aguacate', 'kiwi', 'limones', 'manzana', 'naranjas', 'sandia'})"
      ]
     },
     "execution_count": 103,
     "metadata": {},
     "output_type": "execute_result"
    }
   ],
   "source": [
    "#operaciones típicas\n",
    "frutas={\"kiwi\",\"manzana\",\"sandia\",\"aguacate\"}\n",
    "frutas2={\"kiwi\",\"naranjas\",\"limones\"}\n",
    "\n",
    "frutas,frutas2, frutas.union(frutas2)"
   ]
  },
  {
   "cell_type": "code",
   "execution_count": 87,
   "id": "a4c8fa26",
   "metadata": {},
   "outputs": [
    {
     "ename": "TypeError",
     "evalue": "'set' object does not support item assignment",
     "output_type": "error",
     "traceback": [
      "\u001b[0;31m---------------------------------------------------------------------------\u001b[0m",
      "\u001b[0;31mTypeError\u001b[0m                                 Traceback (most recent call last)",
      "Cell \u001b[0;32mIn[87], line 1\u001b[0m\n\u001b[0;32m----> 1\u001b[0m frutas[\u001b[38;5;241m0\u001b[39m]\u001b[38;5;241m=\u001b[39m\u001b[38;5;124m\"\u001b[39m\u001b[38;5;124mjjjjj\u001b[39m\u001b[38;5;124m\"\u001b[39m\n",
      "\u001b[0;31mTypeError\u001b[0m: 'set' object does not support item assignment"
     ]
    }
   ],
   "source": [
    "# no puedo cosas de este estilo\n",
    "frutas[0]=\"jjjjj\" # imposible NO MUTABLE"
   ]
  },
  {
   "cell_type": "code",
   "execution_count": 88,
   "id": "64297b66",
   "metadata": {},
   "outputs": [
    {
     "data": {
      "text/plain": [
       "{'kiwi'}"
      ]
     },
     "execution_count": 88,
     "metadata": {},
     "output_type": "execute_result"
    }
   ],
   "source": [
    "frutas.intersection(frutas2)"
   ]
  },
  {
   "cell_type": "code",
   "execution_count": 89,
   "id": "03f7d24b",
   "metadata": {},
   "outputs": [
    {
     "data": {
      "text/plain": [
       "True"
      ]
     },
     "execution_count": 89,
     "metadata": {},
     "output_type": "execute_result"
    }
   ],
   "source": [
    "# otro ejemplo \n",
    "\"kiwi\" in frutas\n"
   ]
  },
  {
   "cell_type": "code",
   "execution_count": 90,
   "id": "e093eba9",
   "metadata": {},
   "outputs": [
    {
     "data": {
      "text/plain": [
       "False"
      ]
     },
     "execution_count": 90,
     "metadata": {},
     "output_type": "execute_result"
    }
   ],
   "source": [
    "\"aguacate\" in frutas2"
   ]
  },
  {
   "cell_type": "code",
   "execution_count": 92,
   "id": "b3f0b381",
   "metadata": {},
   "outputs": [
    {
     "data": {
      "text/plain": [
       "{'kiwi', 'manzana', 'melocotón', 'sandia'}"
      ]
     },
     "execution_count": 92,
     "metadata": {},
     "output_type": "execute_result"
    }
   ],
   "source": [
    "# añadir elementos a un conjunto\n",
    "frutas.add(\"melocotón\")\n",
    "frutas.add(\"melocotón\")\n",
    "frutas.add(\"melocotón\")\n",
    "frutas.add(\"melocotón\")\n",
    "frutas.add(\"melocotón\")\n",
    "\n",
    "\n",
    "frutas"
   ]
  },
  {
   "cell_type": "code",
   "execution_count": 94,
   "id": "c3336db8",
   "metadata": {},
   "outputs": [
    {
     "name": "stdout",
     "output_type": "stream",
     "text": [
      "sandia\n",
      "kiwi\n",
      "manzana\n",
      "melocotón\n"
     ]
    }
   ],
   "source": [
    "# recorrido de un conjunto\n",
    "for i in frutas:\n",
    "    print(i)"
   ]
  },
  {
   "cell_type": "code",
   "execution_count": 97,
   "id": "241494ec",
   "metadata": {},
   "outputs": [
    {
     "data": {
      "text/plain": [
       "{'kiwi', 'melocotón', 'peras', 'sandia'}"
      ]
     },
     "execution_count": 97,
     "metadata": {},
     "output_type": "execute_result"
    }
   ],
   "source": [
    "# Para cambiar un elemento de un conjunto: eliminarlo y añadirlo o convertir a lista y de lista a conjunto\n",
    "\n",
    "frutas=list(frutas)\n",
    "frutas[2]=\"peras\"\n",
    "frutas=set(frutas)\n",
    "frutas"
   ]
  },
  {
   "cell_type": "code",
   "execution_count": 104,
   "id": "8bf514f4",
   "metadata": {},
   "outputs": [
    {
     "name": "stdout",
     "output_type": "stream",
     "text": [
      "['E', 's', 't', 'o', ' ', 'e', 's', ' ', 'u', 'n', 'a', ' ', 'c', 'a', 'd', 'e', 'n', 'a', ' ', 'd', 'e', ' ', 'c', 'a', 'r', 'a', 'c', 't', 'e', 'r', 'e', 's']\n"
     ]
    }
   ],
   "source": [
    "cadena=\"Esto es una cadena de caracteres\"\n",
    "\n",
    "lista=list(cadena)\n",
    "\n",
    "print(lista)"
   ]
  },
  {
   "cell_type": "code",
   "execution_count": 106,
   "id": "06404313",
   "metadata": {},
   "outputs": [
    {
     "name": "stdout",
     "output_type": "stream",
     "text": [
      "{'E': 'E', 's': 's', 't': 't', 'o': 'o', ' ': ' ', 'e': 'e', 'u': 'u', 'n': 'n', 'a': 'a', 'c': 'c', 'd': 'd', 'r': 'r'}\n"
     ]
    }
   ],
   "source": [
    "diccionario13=dict([c,c] for c in cadena)\n",
    "print(diccionario13)"
   ]
  },
  {
   "cell_type": "code",
   "execution_count": 107,
   "id": "c43910b8",
   "metadata": {},
   "outputs": [
    {
     "data": {
      "text/plain": [
       "{' ', 'E', 'a', 'c', 'd', 'e', 'n', 'o', 'r', 's', 't', 'u'}"
      ]
     },
     "execution_count": 107,
     "metadata": {},
     "output_type": "execute_result"
    }
   ],
   "source": [
    "conjunto2=set(cadena)\n",
    "conjunto2"
   ]
  },
  {
   "cell_type": "code",
   "execution_count": 108,
   "id": "a8e660d2",
   "metadata": {},
   "outputs": [
    {
     "data": {
      "text/plain": [
       "('E',\n",
       " 's',\n",
       " 't',\n",
       " 'o',\n",
       " ' ',\n",
       " 'e',\n",
       " 's',\n",
       " ' ',\n",
       " 'u',\n",
       " 'n',\n",
       " 'a',\n",
       " ' ',\n",
       " 'c',\n",
       " 'a',\n",
       " 'd',\n",
       " 'e',\n",
       " 'n',\n",
       " 'a',\n",
       " ' ',\n",
       " 'd',\n",
       " 'e',\n",
       " ' ',\n",
       " 'c',\n",
       " 'a',\n",
       " 'r',\n",
       " 'a',\n",
       " 'c',\n",
       " 't',\n",
       " 'e',\n",
       " 'r',\n",
       " 'e',\n",
       " 's')"
      ]
     },
     "execution_count": 108,
     "metadata": {},
     "output_type": "execute_result"
    }
   ],
   "source": [
    "tupla=tuple(cadena)\n",
    "tupla"
   ]
  },
  {
   "cell_type": "markdown",
   "id": "04f614d1",
   "metadata": {},
   "source": [
    "# Las tuplas (tuples)\n",
    "\n",
    "Son una estructura de datos que define un conjunto de elementos entre () y separados por comas. Tienen las siguientes características:\n",
    "- heterogéneas\n",
    "- no mutables\n",
    "- ordenadas \n",
    "\n",
    "Son muy similares a las listas pero consumen menos memoria y tienen un acceso más rápido en comparación con las listas debido a su inmutabilidad. Esto las hace más eficientes en situaciones donde se necesita un acceso rápido a los datos\n"
   ]
  },
  {
   "cell_type": "code",
   "execution_count": 7,
   "id": "abce9089",
   "metadata": {},
   "outputs": [
    {
     "data": {
      "text/plain": [
       "((1, 2, 2, 3, 4, 5), tuple)"
      ]
     },
     "execution_count": 7,
     "metadata": {},
     "output_type": "execute_result"
    }
   ],
   "source": [
    "# Definir tuplas\n",
    "t1= (1,2,2,3,4,5)\n",
    "t1, type(t1)"
   ]
  },
  {
   "cell_type": "code",
   "execution_count": 3,
   "id": "42a625b5",
   "metadata": {},
   "outputs": [
    {
     "data": {
      "text/plain": [
       "('cadena', 1, 1.0, (4+1j), [1, 2, 3, 4, 5])"
      ]
     },
     "execution_count": 3,
     "metadata": {},
     "output_type": "execute_result"
    }
   ],
   "source": [
    "t2=tuple([\"cadena\",1,1.0,4+1j,[1,2,3,4,5]])\n",
    "t2"
   ]
  },
  {
   "cell_type": "code",
   "execution_count": 5,
   "id": "7863833c",
   "metadata": {},
   "outputs": [
    {
     "data": {
      "text/plain": [
       "(tuple, ('un elemento', 1, 2.0))"
      ]
     },
     "execution_count": 5,
     "metadata": {},
     "output_type": "execute_result"
    }
   ],
   "source": [
    "t3=\"un elemento\", 1, 2.0\n",
    "type(t3),t3"
   ]
  },
  {
   "cell_type": "code",
   "execution_count": 8,
   "id": "f00dcad3",
   "metadata": {},
   "outputs": [
    {
     "data": {
      "text/plain": [
       "(3, 4)"
      ]
     },
     "execution_count": 8,
     "metadata": {},
     "output_type": "execute_result"
    }
   ],
   "source": [
    "# operador asignación\n",
    "var1, var2 = 3, 4\n",
    "var1,var2\n",
    "\n",
    "# aquí estoy realizando un procesa llamado \"Unpacking\", o desempaquetar. "
   ]
  },
  {
   "cell_type": "code",
   "execution_count": 9,
   "id": "72f337e6",
   "metadata": {},
   "outputs": [
    {
     "name": "stdout",
     "output_type": "stream",
     "text": [
      "Cadena 1.0 María 2 [1, 2, 3, 4, 5]\n"
     ]
    }
   ],
   "source": [
    "t=(\"Cadena\", 1.0, \"María\", 2, [1,2,3,4,5])\n",
    "v1,v2,v3,v4,v5=t  # desempaquetar\n",
    "print(v1,v2,v3,v4,v5)\n",
    "\n"
   ]
  },
  {
   "cell_type": "code",
   "execution_count": null,
   "id": "0d0b240a",
   "metadata": {},
   "outputs": [],
   "source": [
    "# _ bucle? -> descartar el valor producido por el bucle\n",
    "for _ in range(1:100):\n",
    "    print(\"Hola\")  "
   ]
  },
  {
   "cell_type": "code",
   "execution_count": 10,
   "id": "0e3f2e61",
   "metadata": {},
   "outputs": [
    {
     "ename": "ValueError",
     "evalue": "too many values to unpack (expected 2)",
     "output_type": "error",
     "traceback": [
      "\u001b[0;31m---------------------------------------------------------------------------\u001b[0m",
      "\u001b[0;31mValueError\u001b[0m                                Traceback (most recent call last)",
      "Cell \u001b[0;32mIn[10], line 1\u001b[0m\n\u001b[0;32m----> 1\u001b[0m v1,v2\u001b[38;5;241m=\u001b[39mt\n",
      "\u001b[0;31mValueError\u001b[0m: too many values to unpack (expected 2)"
     ]
    }
   ],
   "source": [
    "# el número de elementos a desempaquetar tiene que coincidir con las variables que reciben los valores\n",
    "v1,v2=t"
   ]
  },
  {
   "cell_type": "code",
   "execution_count": 12,
   "id": "4cda735c",
   "metadata": {},
   "outputs": [
    {
     "data": {
      "text/plain": [
       "('Cadena', 1.0)"
      ]
     },
     "execution_count": 12,
     "metadata": {},
     "output_type": "execute_result"
    }
   ],
   "source": [
    "# slicing? Sí, el slicing es aplicable a las tuplas\n",
    "v1,v2=t[0:2]\n",
    "v1,v2"
   ]
  },
  {
   "cell_type": "code",
   "execution_count": 14,
   "id": "90fae1b0",
   "metadata": {},
   "outputs": [
    {
     "data": {
      "text/plain": [
       "('Cadena', 1.0)"
      ]
     },
     "execution_count": 14,
     "metadata": {},
     "output_type": "execute_result"
    }
   ],
   "source": [
    "# _ descartar valores de tuplas\n",
    "v1,v2,_,_,_ = t\n",
    "\n",
    "v1,v2\n"
   ]
  },
  {
   "cell_type": "code",
   "execution_count": 18,
   "id": "a536f8f4",
   "metadata": {},
   "outputs": [
    {
     "data": {
      "text/plain": [
       "(0,\n",
       " 1,\n",
       " 2,\n",
       " 3,\n",
       " 4,\n",
       " 5,\n",
       " 6,\n",
       " 7,\n",
       " 8,\n",
       " 9,\n",
       " 10,\n",
       " 11,\n",
       " 12,\n",
       " 13,\n",
       " 14,\n",
       " 15,\n",
       " 16,\n",
       " 17,\n",
       " 18,\n",
       " 19,\n",
       " 20,\n",
       " 21,\n",
       " 22,\n",
       " 23,\n",
       " 24,\n",
       " 25,\n",
       " 26,\n",
       " 27,\n",
       " 28,\n",
       " 29,\n",
       " 30,\n",
       " 31,\n",
       " 32,\n",
       " 33,\n",
       " 34,\n",
       " 35,\n",
       " 36,\n",
       " 37,\n",
       " 38,\n",
       " 39,\n",
       " 40,\n",
       " 41,\n",
       " 42,\n",
       " 43,\n",
       " 44,\n",
       " 45,\n",
       " 46,\n",
       " 47,\n",
       " 48,\n",
       " 49,\n",
       " 50,\n",
       " 51,\n",
       " 52,\n",
       " 53,\n",
       " 54,\n",
       " 55,\n",
       " 56,\n",
       " 57,\n",
       " 58,\n",
       " 59,\n",
       " 60,\n",
       " 61,\n",
       " 62,\n",
       " 63,\n",
       " 64,\n",
       " 65,\n",
       " 66,\n",
       " 67,\n",
       " 68,\n",
       " 69,\n",
       " 70,\n",
       " 71,\n",
       " 72,\n",
       " 73,\n",
       " 74,\n",
       " 75,\n",
       " 76,\n",
       " 77,\n",
       " 78,\n",
       " 79,\n",
       " 80,\n",
       " 81,\n",
       " 82,\n",
       " 83,\n",
       " 84,\n",
       " 85,\n",
       " 86,\n",
       " 87,\n",
       " 88,\n",
       " 89,\n",
       " 90,\n",
       " 91,\n",
       " 92,\n",
       " 93,\n",
       " 94,\n",
       " 95,\n",
       " 96,\n",
       " 97,\n",
       " 98,\n",
       " 99)"
      ]
     },
     "execution_count": 18,
     "metadata": {},
     "output_type": "execute_result"
    }
   ],
   "source": [
    "lista1=[i for i in range(100)]\n",
    "t2=tuple(lista1)\n",
    "t2"
   ]
  },
  {
   "cell_type": "code",
   "execution_count": 19,
   "id": "da3d01be",
   "metadata": {},
   "outputs": [
    {
     "data": {
      "text/plain": [
       "(1, 2)"
      ]
     },
     "execution_count": 19,
     "metadata": {},
     "output_type": "execute_result"
    }
   ],
   "source": [
    "_,v1,v2,*_ = t2\n",
    "v1,v2"
   ]
  },
  {
   "cell_type": "markdown",
   "id": "221040de",
   "metadata": {},
   "source": [
    "## Operaciones con tuplas (operadores)\n",
    "\n",
    "+ sumar dos tuplas\n",
    "* repetir tuplas\n",
    "* unpacking: descomponer una lista o tupla en variables individuales. Se puede usar el * como caracter comodín para asignar el \"resto\" en cualquier posicion \n",
    "\n",
    "```\n",
    "# Una tupla con cinco elementos\n",
    "tupla = (10, 20, 30, 40, 50)\n",
    "\n",
    "# Usamos unpacking para obtener el primer y último valor, y descartamos el resto\n",
    "primero, *_, ultimo = tupla\n",
    "\n",
    "print(primero)  # Salida: 10\n",
    "print(ultimo)   # Salida: 50\n",
    "\n",
    "\n",
    "\n"
   ]
  },
  {
   "cell_type": "code",
   "execution_count": 20,
   "id": "facb6f56",
   "metadata": {},
   "outputs": [
    {
     "data": {
      "text/plain": [
       "(0,\n",
       " 1,\n",
       " 2,\n",
       " 3,\n",
       " 4,\n",
       " 5,\n",
       " 6,\n",
       " 7,\n",
       " 8,\n",
       " 9,\n",
       " 10,\n",
       " 11,\n",
       " 12,\n",
       " 13,\n",
       " 14,\n",
       " 15,\n",
       " 16,\n",
       " 17,\n",
       " 18,\n",
       " 19,\n",
       " 20,\n",
       " 21,\n",
       " 22,\n",
       " 23,\n",
       " 24,\n",
       " 25,\n",
       " 26,\n",
       " 27,\n",
       " 28,\n",
       " 29,\n",
       " 30,\n",
       " 31,\n",
       " 32,\n",
       " 33,\n",
       " 34,\n",
       " 35,\n",
       " 36,\n",
       " 37,\n",
       " 38,\n",
       " 39,\n",
       " 40,\n",
       " 41,\n",
       " 42,\n",
       " 43,\n",
       " 44,\n",
       " 45,\n",
       " 46,\n",
       " 47,\n",
       " 48,\n",
       " 49,\n",
       " 50,\n",
       " 51,\n",
       " 52,\n",
       " 53,\n",
       " 54,\n",
       " 55,\n",
       " 56,\n",
       " 57,\n",
       " 58,\n",
       " 59,\n",
       " 60,\n",
       " 61,\n",
       " 62,\n",
       " 63,\n",
       " 64,\n",
       " 65,\n",
       " 66,\n",
       " 67,\n",
       " 68,\n",
       " 69,\n",
       " 70,\n",
       " 71,\n",
       " 72,\n",
       " 73,\n",
       " 74,\n",
       " 75,\n",
       " 76,\n",
       " 77,\n",
       " 78,\n",
       " 79,\n",
       " 80,\n",
       " 81,\n",
       " 82,\n",
       " 83,\n",
       " 84,\n",
       " 85,\n",
       " 86,\n",
       " 87,\n",
       " 88,\n",
       " 89,\n",
       " 90,\n",
       " 91,\n",
       " 92,\n",
       " 93,\n",
       " 94,\n",
       " 95,\n",
       " 96,\n",
       " 97,\n",
       " 98,\n",
       " 99,\n",
       " 1,\n",
       " 2)"
      ]
     },
     "execution_count": 20,
     "metadata": {},
     "output_type": "execute_result"
    }
   ],
   "source": [
    "t3=(1,2)\n",
    "t2+t3"
   ]
  },
  {
   "cell_type": "code",
   "execution_count": 22,
   "id": "a4a1c1b9",
   "metadata": {},
   "outputs": [
    {
     "data": {
      "text/plain": [
       "500"
      ]
     },
     "execution_count": 22,
     "metadata": {},
     "output_type": "execute_result"
    }
   ],
   "source": [
    "len(t2*5)"
   ]
  },
  {
   "cell_type": "code",
   "execution_count": 24,
   "id": "5c1966ae",
   "metadata": {},
   "outputs": [
    {
     "data": {
      "text/plain": [
       "(0, 99)"
      ]
     },
     "execution_count": 24,
     "metadata": {},
     "output_type": "execute_result"
    }
   ],
   "source": [
    "# min(), max(), len()....\n",
    "min(t2),max(t2)"
   ]
  },
  {
   "cell_type": "code",
   "execution_count": 26,
   "id": "0bf91dae",
   "metadata": {},
   "outputs": [
    {
     "data": {
      "text/plain": [
       "(8,)"
      ]
     },
     "execution_count": 26,
     "metadata": {},
     "output_type": "execute_result"
    }
   ],
   "source": [
    "import numpy as np\n",
    "v=np.array([1,2,3,4,5,6,7,8])\n",
    "\n",
    "v.shape"
   ]
  },
  {
   "cell_type": "code",
   "execution_count": 28,
   "id": "425f6dd8",
   "metadata": {},
   "outputs": [
    {
     "data": {
      "text/plain": [
       "str"
      ]
     },
     "execution_count": 28,
     "metadata": {},
     "output_type": "execute_result"
    }
   ],
   "source": [
    "tupla_1_elemento=(\"Cadena\")\n",
    "type(tupla_1_elemento)"
   ]
  },
  {
   "cell_type": "code",
   "execution_count": 29,
   "id": "c956ff7d",
   "metadata": {},
   "outputs": [
    {
     "data": {
      "text/plain": [
       "tuple"
      ]
     },
     "execution_count": 29,
     "metadata": {},
     "output_type": "execute_result"
    }
   ],
   "source": [
    "tupla_1_elemento=(\"Cadena\",)\n",
    "type(tupla_1_elemento)"
   ]
  },
  {
   "cell_type": "code",
   "execution_count": 30,
   "id": "9462ff58",
   "metadata": {},
   "outputs": [
    {
     "data": {
      "text/plain": [
       "('C', 'a', 'd', 'e', 'n', 'a')"
      ]
     },
     "execution_count": 30,
     "metadata": {},
     "output_type": "execute_result"
    }
   ],
   "source": [
    "tupla3=tuple(\"Cadena\")\n",
    "tuple3"
   ]
  },
  {
   "cell_type": "code",
   "execution_count": 31,
   "id": "23401a96",
   "metadata": {},
   "outputs": [
    {
     "data": {
      "text/plain": [
       "list"
      ]
     },
     "execution_count": 31,
     "metadata": {},
     "output_type": "execute_result"
    }
   ],
   "source": [
    "tupla4=([\"cadena\"])\n",
    "type(tupla4)\n"
   ]
  },
  {
   "cell_type": "code",
   "execution_count": 33,
   "id": "28520ef4",
   "metadata": {},
   "outputs": [
    {
     "data": {
      "text/plain": [
       "(int, tuple, tuple)"
      ]
     },
     "execution_count": 33,
     "metadata": {},
     "output_type": "execute_result"
    }
   ],
   "source": [
    "t5=(2)\n",
    "t6=(2,1)\n",
    "t7=(\"cadena\",2.0,[1,2,3,3,4])\n",
    "type(t5),type(t6),type(t7)"
   ]
  },
  {
   "cell_type": "code",
   "execution_count": 34,
   "id": "f06d8d07",
   "metadata": {},
   "outputs": [
    {
     "name": "stdout",
     "output_type": "stream",
     "text": [
      "cadena\n",
      "2.0\n",
      "[1, 2, 3, 3, 4]\n"
     ]
    }
   ],
   "source": [
    "#bucles\n",
    "for i in t7:\n",
    "    print(i)\n",
    "    \n",
    "    "
   ]
  },
  {
   "cell_type": "code",
   "execution_count": 36,
   "id": "8ea7bde8",
   "metadata": {},
   "outputs": [
    {
     "name": "stdout",
     "output_type": "stream",
     "text": [
      "0 cadena\n",
      "1 2.0\n",
      "2 [1, 2, 3, 3, 4] 0 1\n",
      "2 [1, 2, 3, 3, 4] 1 2\n",
      "2 [1, 2, 3, 3, 4] 2 3\n",
      "2 [1, 2, 3, 3, 4] 3 3\n",
      "2 [1, 2, 3, 3, 4] 4 4\n"
     ]
    }
   ],
   "source": [
    "# recorrido con además del elemento que saque su posición\n",
    "for i in range(len(t7)):\n",
    "    if type(t7[i]) is list:\n",
    "        for j in range(len(t7[i])):\n",
    "            print(i,t7[i],j,t7[i][j])\n",
    "    else:\n",
    "        print(i,t7[i])"
   ]
  },
  {
   "cell_type": "code",
   "execution_count": 37,
   "id": "94feff04",
   "metadata": {},
   "outputs": [
    {
     "name": "stdout",
     "output_type": "stream",
     "text": [
      "0 cadena\n",
      "1 2.0\n",
      "2 [1, 2, 3, 3, 4]\n"
     ]
    }
   ],
   "source": [
    "# enumerate también existen en python base\n",
    "for i,j in enumerate(t7):\n",
    "    print(i,j)"
   ]
  },
  {
   "cell_type": "code",
   "execution_count": 38,
   "id": "77ce0be4",
   "metadata": {},
   "outputs": [
    {
     "data": {
      "text/plain": [
       "True"
      ]
     },
     "execution_count": 38,
     "metadata": {},
     "output_type": "execute_result"
    }
   ],
   "source": [
    "# cómo comprobar si un elemento pertenece o no a una tupla\n",
    "\"cadena\" in t7"
   ]
  },
  {
   "cell_type": "code",
   "execution_count": 39,
   "id": "e271007a",
   "metadata": {},
   "outputs": [
    {
     "name": "stdout",
     "output_type": "stream",
     "text": [
      "cereza es roja\n",
      "kiwi es verde\n",
      "manzana es amarilla\n"
     ]
    }
   ],
   "source": [
    "# Dada esta tupla, recorrerla con unpacking\n",
    "t8=(\"cereza\",\"roja\"),(\"kiwi\",\"verde\"),(\"manzana\",\"amarilla\")\n",
    "for x,y in t8:\n",
    "    print(x,\"es\",y)\n"
   ]
  },
  {
   "cell_type": "code",
   "execution_count": 40,
   "id": "7873bac2",
   "metadata": {},
   "outputs": [
    {
     "name": "stdout",
     "output_type": "stream",
     "text": [
      "portatil vale 800\n",
      "radio vale 20\n",
      "television vale 500\n"
     ]
    }
   ],
   "source": [
    "objetos=[\"portatil\",\"radio\",\"television\"]\n",
    "precios=[800,20,500]\n",
    "\n",
    "# la función zip me permite combinar dos o más listas generando tuplas de las mismas\n",
    "for x,y in zip(objetos,precios):\n",
    "    print(x,\"vale\",y)"
   ]
  },
  {
   "cell_type": "code",
   "execution_count": 42,
   "id": "2822eef3",
   "metadata": {},
   "outputs": [
    {
     "data": {
      "text/plain": [
       "[('portatil', 800), ('radio', 20), ('television', 500)]"
      ]
     },
     "execution_count": 42,
     "metadata": {},
     "output_type": "execute_result"
    }
   ],
   "source": [
    "list(zip(objetos,precios))"
   ]
  },
  {
   "cell_type": "code",
   "execution_count": 44,
   "id": "36a1b290",
   "metadata": {},
   "outputs": [
    {
     "ename": "TypeError",
     "evalue": "'tuple' object does not support item assignment",
     "output_type": "error",
     "traceback": [
      "\u001b[0;31m---------------------------------------------------------------------------\u001b[0m",
      "\u001b[0;31mTypeError\u001b[0m                                 Traceback (most recent call last)",
      "Cell \u001b[0;32mIn[44], line 3\u001b[0m\n\u001b[1;32m      1\u001b[0m \u001b[38;5;66;03m#Las tuplas no son mutables: sus elementos no se pueden modificar\u001b[39;00m\n\u001b[0;32m----> 3\u001b[0m t7[\u001b[38;5;241m0\u001b[39m]\u001b[38;5;241m=\u001b[39m\u001b[38;5;124m\"\u001b[39m\u001b[38;5;124mCadena 1\u001b[39m\u001b[38;5;124m\"\u001b[39m\n",
      "\u001b[0;31mTypeError\u001b[0m: 'tuple' object does not support item assignment"
     ]
    }
   ],
   "source": [
    "#Las tuplas no son mutables: sus elementos no se pueden modificar\n",
    "\n",
    "t7[0]=\"Cadena 1\""
   ]
  },
  {
   "cell_type": "code",
   "execution_count": 46,
   "id": "3a7210f9",
   "metadata": {},
   "outputs": [
    {
     "data": {
      "text/plain": [
       "('otra cadena', 2.0, [1, 2, 3, 3, 4])"
      ]
     },
     "execution_count": 46,
     "metadata": {},
     "output_type": "execute_result"
    }
   ],
   "source": [
    "# para cambiar el valor de una tupla: tupla -> lista -> modificamos -> tupla (Operación de dudosa eficiencia)\n",
    "t7=list(t7)\n",
    "t7[0]=\"otra cadena\"\n",
    "t7=tuple(t7)\n",
    "t7"
   ]
  },
  {
   "cell_type": "code",
   "execution_count": 48,
   "id": "5d2fe0ca",
   "metadata": {},
   "outputs": [
    {
     "data": {
      "text/plain": [
       "({'alumno': 'David'}, [1, 2, 3, 45, 5], ('otra cadena', 2.0, [1, 2, 3, 3, 4]))"
      ]
     },
     "execution_count": 48,
     "metadata": {},
     "output_type": "execute_result"
    }
   ],
   "source": [
    "t8={\"alumno\":\"David\"},[1,2,3,45,5],t7\n",
    "t8"
   ]
  }
 ],
 "metadata": {
  "kernelspec": {
   "display_name": ".venv",
   "language": "python",
   "name": "python3"
  },
  "language_info": {
   "codemirror_mode": {
    "name": "ipython",
    "version": 3
   },
   "file_extension": ".py",
   "mimetype": "text/x-python",
   "name": "python",
   "nbconvert_exporter": "python",
   "pygments_lexer": "ipython3",
   "version": "3.13.7"
  }
 },
 "nbformat": 4,
 "nbformat_minor": 5
}
